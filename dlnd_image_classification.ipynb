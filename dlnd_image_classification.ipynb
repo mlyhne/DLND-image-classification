{
 "cells": [
  {
   "cell_type": "markdown",
   "metadata": {
    "collapsed": true,
    "deletable": true,
    "editable": true
   },
   "source": [
    "# Image Classification\n",
    "In this project, you'll classify images from the [CIFAR-10 dataset](https://www.cs.toronto.edu/~kriz/cifar.html).  The dataset consists of airplanes, dogs, cats, and other objects. You'll preprocess the images, then train a convolutional neural network on all the samples. The images need to be normalized and the labels need to be one-hot encoded.  You'll get to apply what you learned and build a convolutional, max pooling, dropout, and fully connected layers.  At the end, you'll get to see your neural network's predictions on the sample images.\n",
    "## Get the Data\n",
    "Run the following cell to download the [CIFAR-10 dataset for python](https://www.cs.toronto.edu/~kriz/cifar-10-python.tar.gz)."
   ]
  },
  {
   "cell_type": "code",
   "execution_count": 1,
   "metadata": {
    "collapsed": false,
    "deletable": true,
    "editable": true
   },
   "outputs": [
    {
     "name": "stdout",
     "output_type": "stream",
     "text": [
      "All files found!\n"
     ]
    }
   ],
   "source": [
    "\"\"\"\n",
    "DON'T MODIFY ANYTHING IN THIS CELL THAT IS BELOW THIS LINE\n",
    "\"\"\"\n",
    "from urllib.request import urlretrieve\n",
    "from os.path import isfile, isdir\n",
    "from tqdm import tqdm\n",
    "import problem_unittests as tests\n",
    "import tarfile\n",
    "\n",
    "cifar10_dataset_folder_path = 'cifar-10-batches-py'\n",
    "\n",
    "# Use Floyd's cifar-10 dataset if present\n",
    "floyd_cifar10_location = '/input/cifar-10/python.tar.gz'\n",
    "if isfile(floyd_cifar10_location):\n",
    "    tar_gz_path = floyd_cifar10_location\n",
    "else:\n",
    "    tar_gz_path = 'cifar-10-python.tar.gz'\n",
    "\n",
    "class DLProgress(tqdm):\n",
    "    last_block = 0\n",
    "\n",
    "    def hook(self, block_num=1, block_size=1, total_size=None):\n",
    "        self.total = total_size\n",
    "        self.update((block_num - self.last_block) * block_size)\n",
    "        self.last_block = block_num\n",
    "\n",
    "if not isfile(tar_gz_path):\n",
    "    with DLProgress(unit='B', unit_scale=True, miniters=1, desc='CIFAR-10 Dataset') as pbar:\n",
    "        urlretrieve(\n",
    "            'https://www.cs.toronto.edu/~kriz/cifar-10-python.tar.gz',\n",
    "            tar_gz_path,\n",
    "            pbar.hook)\n",
    "\n",
    "if not isdir(cifar10_dataset_folder_path):\n",
    "    with tarfile.open(tar_gz_path) as tar:\n",
    "        tar.extractall()\n",
    "        tar.close()\n",
    "\n",
    "\n",
    "tests.test_folder_path(cifar10_dataset_folder_path)"
   ]
  },
  {
   "cell_type": "markdown",
   "metadata": {
    "deletable": true,
    "editable": true
   },
   "source": [
    "## Explore the Data\n",
    "The dataset is broken into batches to prevent your machine from running out of memory.  The CIFAR-10 dataset consists of 5 batches, named `data_batch_1`, `data_batch_2`, etc.. Each batch contains the labels and images that are one of the following:\n",
    "* airplane\n",
    "* automobile\n",
    "* bird\n",
    "* cat\n",
    "* deer\n",
    "* dog\n",
    "* frog\n",
    "* horse\n",
    "* ship\n",
    "* truck\n",
    "\n",
    "Understanding a dataset is part of making predictions on the data.  Play around with the code cell below by changing the `batch_id` and `sample_id`. The `batch_id` is the id for a batch (1-5). The `sample_id` is the id for a image and label pair in the batch.\n",
    "\n",
    "Ask yourself \"What are all possible labels?\", \"What is the range of values for the image data?\", \"Are the labels in order or random?\".  Answers to questions like these will help you preprocess the data and end up with better predictions."
   ]
  },
  {
   "cell_type": "code",
   "execution_count": 2,
   "metadata": {
    "collapsed": false,
    "deletable": true,
    "editable": true
   },
   "outputs": [
    {
     "name": "stdout",
     "output_type": "stream",
     "text": [
      "\n",
      "Stats of batch 4:\n",
      "Samples: 10000\n",
      "Label Counts: {0: 1003, 1: 963, 2: 1041, 3: 976, 4: 1004, 5: 1021, 6: 1004, 7: 981, 8: 1024, 9: 983}\n",
      "First 20 Labels: [0, 6, 0, 2, 7, 2, 1, 2, 4, 1, 5, 6, 6, 3, 1, 3, 5, 5, 8, 1]\n",
      "\n",
      "Example of Image 42:\n",
      "Image - Min Value: 7 Max Value: 255\n",
      "Image - Shape: (32, 32, 3)\n",
      "Label - Label Id: 5 Name: dog\n"
     ]
    },
    {
     "data": {
      "image/png": "[encoded data removed]",
      "text/plain": [
       "<matplotlib.figure.Figure at 0x11637f828>"
      ]
     },
     "metadata": {
      "image/png": {
       "height": 250,
       "width": 253
      }
     },
     "output_type": "display_data"
    }
   ],
   "source": [
    "%matplotlib inline\n",
    "%config InlineBackend.figure_format = 'retina'\n",
    "\n",
    "import helper\n",
    "import numpy as np\n",
    "\n",
    "# Explore the dataset\n",
    "batch_id = 4\n",
    "sample_id = 42\n",
    "helper.display_stats(cifar10_dataset_folder_path, batch_id, sample_id)"
   ]
  },
  {
   "cell_type": "markdown",
   "metadata": {
    "deletable": true,
    "editable": true
   },
   "source": [
    "## Implement Preprocess Functions\n",
    "### Normalize\n",
    "In the cell below, implement the `normalize` function to take in image data, `x`, and return it as a normalized Numpy array. The values should be in the range of 0 to 1, inclusive.  The return object should be the same shape as `x`."
   ]
  },
  {
   "cell_type": "code",
   "execution_count": 3,
   "metadata": {
    "collapsed": false,
    "deletable": true,
    "editable": true
   },
   "outputs": [
    {
     "name": "stdout",
     "output_type": "stream",
     "text": [
      "Tests Passed\n"
     ]
    }
   ],
   "source": [
    "def normalize(x):\n",
    "    \"\"\"\n",
    "    Normalize a list of sample image data in the range of 0 to 1\n",
    "    : x: List of image data.  The image shape is (32, 32, 3)\n",
    "    : return: Numpy array of normalize data\n",
    "    \"\"\"\n",
    "    # TODO: Implement Function\n",
    "    # min = 0\n",
    "    # max = 255\n",
    "    # x_normalized = (x+min) / (max-min)\n",
    "    return x/255\n",
    "\n",
    "\n",
    "\"\"\"\n",
    "DON'T MODIFY ANYTHING IN THIS CELL THAT IS BELOW THIS LINE\n",
    "\"\"\"\n",
    "tests.test_normalize(normalize)"
   ]
  },
  {
   "cell_type": "markdown",
   "metadata": {
    "deletable": true,
    "editable": true
   },
   "source": [
    "### One-hot encode\n",
    "Just like the previous code cell, you'll be implementing a function for preprocessing.  This time, you'll implement the `one_hot_encode` function. The input, `x`, are a list of labels.  Implement the function to return the list of labels as One-Hot encoded Numpy array.  The possible values for labels are 0 to 9. The one-hot encoding function should return the same encoding for each value between each call to `one_hot_encode`.  Make sure to save the map of encodings outside the function.\n",
    "\n",
    "Hint: Don't reinvent the wheel."
   ]
  },
  {
   "cell_type": "code",
   "execution_count": 4,
   "metadata": {
    "collapsed": false,
    "deletable": true,
    "editable": true
   },
   "outputs": [
    {
     "name": "stdout",
     "output_type": "stream",
     "text": [
      "Tests Passed\n"
     ]
    }
   ],
   "source": [
    "def one_hot_encode(x):\n",
    "    \"\"\"\n",
    "    One hot encode a list of sample labels. Return a one-hot encoded vector for each label.\n",
    "    : x: List of sample Labels\n",
    "    : return: Numpy array of one-hot encoded labels\n",
    "    \"\"\"\n",
    "    # TODO: Implement Function\n",
    "    # make np.array with shape (lenght of x array, 10 labels)\n",
    "    output = np.array(np.zeros(len(x)*10)).reshape(len(x),10)\n",
    "    for i in range(len(x)):\n",
    "        one_hot = np.zeros(10)\n",
    "        one_hot[x[i]] = 1\n",
    "        output[i] = one_hot\n",
    "    return output\n",
    "\n",
    "\n",
    "\"\"\"\n",
    "DON'T MODIFY ANYTHING IN THIS CELL THAT IS BELOW THIS LINE\n",
    "\"\"\"\n",
    "tests.test_one_hot_encode(one_hot_encode)"
   ]
  },
  {
   "cell_type": "markdown",
   "metadata": {
    "deletable": true,
    "editable": true
   },
   "source": [
    "### Randomize Data\n",
    "As you saw from exploring the data above, the order of the samples are randomized.  It doesn't hurt to randomize it again, but you don't need to for this dataset."
   ]
  },
  {
   "cell_type": "markdown",
   "metadata": {
    "deletable": true,
    "editable": true
   },
   "source": [
    "## Preprocess all the data and save it\n",
    "Running the code cell below will preprocess all the CIFAR-10 data and save it to file. The code below also uses 10% of the training data for validation."
   ]
  },
  {
   "cell_type": "code",
   "execution_count": 5,
   "metadata": {
    "collapsed": false,
    "deletable": true,
    "editable": true
   },
   "outputs": [],
   "source": [
    "\"\"\"\n",
    "DON'T MODIFY ANYTHING IN THIS CELL\n",
    "\"\"\"\n",
    "# Preprocess Training, Validation, and Testing Data\n",
    "helper.preprocess_and_save_data(cifar10_dataset_folder_path, normalize, one_hot_encode)"
   ]
  },
  {
   "cell_type": "markdown",
   "metadata": {
    "deletable": true,
    "editable": true
   },
   "source": [
    "# Check Point\n",
    "This is your first checkpoint.  If you ever decide to come back to this notebook or have to restart the notebook, you can start from here.  The preprocessed data has been saved to disk."
   ]
  },
  {
   "cell_type": "code",
   "execution_count": 6,
   "metadata": {
    "collapsed": false,
    "deletable": true,
    "editable": true
   },
   "outputs": [],
   "source": [
    "\"\"\"\n",
    "DON'T MODIFY ANYTHING IN THIS CELL\n",
    "\"\"\"\n",
    "import pickle\n",
    "import problem_unittests as tests\n",
    "import helper\n",
    "\n",
    "# Load the Preprocessed Validation data\n",
    "valid_features, valid_labels = pickle.load(open('preprocess_validation.p', mode='rb'))"
   ]
  },
  {
   "cell_type": "markdown",
   "metadata": {
    "deletable": true,
    "editable": true
   },
   "source": [
    "## Build the network\n",
    "For the neural network, you'll build each layer into a function.  Most of the code you've seen has been outside of functions. To test your code more thoroughly, we require that you put each layer in a function.  This allows us to give you better feedback and test for simple mistakes using our unittests before you submit your project.\n",
    "\n",
    ">**Note:** If you're finding it hard to dedicate enough time for this course each week, we've provided a small shortcut to this part of the project. In the next couple of problems, you'll have the option to use classes from the [TensorFlow Layers](https://www.tensorflow.org/api_docs/python/tf/layers) or [TensorFlow Layers (contrib)](https://www.tensorflow.org/api_guides/python/contrib.layers) packages to build each layer, except the layers you build in the \"Convolutional and Max Pooling Layer\" section.  TF Layers is similar to Keras's and TFLearn's abstraction to layers, so it's easy to pickup.\n",
    "\n",
    ">However, if you would like to get the most out of this course, try to solve all the problems _without_ using anything from the TF Layers packages. You **can** still use classes from other packages that happen to have the same name as ones you find in TF Layers! For example, instead of using the TF Layers version of the `conv2d` class, [tf.layers.conv2d](https://www.tensorflow.org/api_docs/python/tf/layers/conv2d), you would want to use the TF Neural Network version of `conv2d`, [tf.nn.conv2d](https://www.tensorflow.org/api_docs/python/tf/nn/conv2d). \n",
    "\n",
    "Let's begin!\n",
    "\n",
    "### Input\n",
    "The neural network needs to read the image data, one-hot encoded labels, and dropout keep probability. Implement the following functions\n",
    "* Implement `neural_net_image_input`\n",
    " * Return a [TF Placeholder](https://www.tensorflow.org/api_docs/python/tf/placeholder)\n",
    " * Set the shape using `image_shape` with batch size set to `None`.\n",
    " * Name the TensorFlow placeholder \"x\" using the TensorFlow `name` parameter in the [TF Placeholder](https://www.tensorflow.org/api_docs/python/tf/placeholder).\n",
    "* Implement `neural_net_label_input`\n",
    " * Return a [TF Placeholder](https://www.tensorflow.org/api_docs/python/tf/placeholder)\n",
    " * Set the shape using `n_classes` with batch size set to `None`.\n",
    " * Name the TensorFlow placeholder \"y\" using the TensorFlow `name` parameter in the [TF Placeholder](https://www.tensorflow.org/api_docs/python/tf/placeholder).\n",
    "* Implement `neural_net_keep_prob_input`\n",
    " * Return a [TF Placeholder](https://www.tensorflow.org/api_docs/python/tf/placeholder) for dropout keep probability.\n",
    " * Name the TensorFlow placeholder \"keep_prob\" using the TensorFlow `name` parameter in the [TF Placeholder](https://www.tensorflow.org/api_docs/python/tf/placeholder).\n",
    "\n",
    "These names will be used at the end of the project to load your saved model.\n",
    "\n",
    "Note: `None` for shapes in TensorFlow allow for a dynamic size."
   ]
  },
  {
   "cell_type": "code",
   "execution_count": 7,
   "metadata": {
    "collapsed": false,
    "deletable": true,
    "editable": true
   },
   "outputs": [
    {
     "name": "stdout",
     "output_type": "stream",
     "text": [
      "Image Input Tests Passed.\n",
      "Label Input Tests Passed.\n",
      "Keep Prob Tests Passed.\n"
     ]
    }
   ],
   "source": [
    "import tensorflow as tf\n",
    "\n",
    "def neural_net_image_input(image_shape):\n",
    "    \"\"\"\n",
    "    Return a Tensor for a batch of image input\n",
    "    : image_shape: Shape of the images\n",
    "    : return: Tensor for image input.\n",
    "    \"\"\"\n",
    "    # TODO: Implement Function\n",
    "    # placeholder for input x, with image shape, type is float32\n",
    "    return tf.placeholder(tf.float32, shape=(None,) + image_shape, name='x')\n",
    "\n",
    "\n",
    "def neural_net_label_input(n_classes):\n",
    "    \"\"\"\n",
    "    Return a Tensor for a batch of label input\n",
    "    : n_classes: Number of classes\n",
    "    : return: Tensor for label input.\n",
    "    \"\"\"\n",
    "    # TODO: Implement Function\n",
    "    return tf.placeholder(tf.float32, shape=(None, n_classes), name='y')\n",
    "\n",
    "\n",
    "def neural_net_keep_prob_input():\n",
    "    \"\"\"\n",
    "    Return a Tensor for keep probability\n",
    "    : return: Tensor for keep probability.\n",
    "    \"\"\"\n",
    "    # TODO: Implement Function\n",
    "    return tf.placeholder(tf.float32, name='keep_prob')\n",
    "\n",
    "\n",
    "\"\"\"\n",
    "DON'T MODIFY ANYTHING IN THIS CELL THAT IS BELOW THIS LINE\n",
    "\"\"\"\n",
    "tf.reset_default_graph()\n",
    "tests.test_nn_image_inputs(neural_net_image_input)\n",
    "tests.test_nn_label_inputs(neural_net_label_input)\n",
    "tests.test_nn_keep_prob_inputs(neural_net_keep_prob_input)"
   ]
  },
  {
   "cell_type": "markdown",
   "metadata": {
    "deletable": true,
    "editable": true
   },
   "source": [
    "### Convolution and Max Pooling Layer\n",
    "Convolution layers have a lot of success with images. For this code cell, you should implement the function `conv2d_maxpool` to apply convolution then max pooling:\n",
    "* Create the weight and bias using `conv_ksize`, `conv_num_outputs` and the shape of `x_tensor`.\n",
    "* Apply a convolution to `x_tensor` using weight and `conv_strides`.\n",
    " * We recommend you use same padding, but you're welcome to use any padding.\n",
    "* Add bias\n",
    "* Add a nonlinear activation to the convolution.\n",
    "* Apply Max Pooling using `pool_ksize` and `pool_strides`.\n",
    " * We recommend you use same padding, but you're welcome to use any padding.\n",
    "\n",
    "**Note:** You **can't** use [TensorFlow Layers](https://www.tensorflow.org/api_docs/python/tf/layers) or [TensorFlow Layers (contrib)](https://www.tensorflow.org/api_guides/python/contrib.layers) for **this** layer, but you can still use TensorFlow's [Neural Network](https://www.tensorflow.org/api_docs/python/tf/nn) package. You may still use the shortcut option for all the **other** layers."
   ]
  },
  {
   "cell_type": "code",
   "execution_count": 8,
   "metadata": {
    "collapsed": false,
    "deletable": true,
    "editable": true
   },
   "outputs": [
    {
     "name": "stdout",
     "output_type": "stream",
     "text": [
      "Tests Passed\n"
     ]
    }
   ],
   "source": [
    "def conv2d_maxpool(x_tensor, conv_num_outputs, conv_ksize, conv_strides, pool_ksize, pool_strides):\n",
    "    \"\"\"\n",
    "    Apply convolution then max pooling to x_tensor\n",
    "    :param x_tensor: TensorFlow Tensor\n",
    "    :param conv_num_outputs: Number of outputs for the convolutional layer\n",
    "    :param conv_ksize: kernal size 2-D Tuple for the convolutional layer\n",
    "    :param conv_strides: Stride 2-D Tuple for convolution\n",
    "    :param pool_ksize: kernal size 2-D Tuple for pool\n",
    "    :param pool_strides: Stride 2-D Tuple for pool\n",
    "    : return: A tensor that represents convolution and max pooling of x_tensor\n",
    "    \"\"\"\n",
    "    # TODO: Implement Function\n",
    "    #0 Calculate shape of filter\n",
    "    \n",
    "    #print(x_tensor.get_shape()[3]) # ?, 32, 32, 5\n",
    "    #print(conv_num_outputs) # 10\n",
    "    #print(conv_ksize) # 2, 2\n",
    "    #print(conv_strides) # 4, 4\n",
    "    #print(pool_ksize) # 2, 2\n",
    "    #print(pool_strides) # 2,2\n",
    "    \n",
    "    # filter : hight , width, depth_in, depth_out\n",
    "    w_shape   = conv_ksize + (x_tensor.get_shape().as_list()[3],) + (conv_num_outputs,)\n",
    "    \n",
    "    c_strides = (1,) + conv_strides + (1,)\n",
    "    p_ksize   = (1,) + pool_ksize   + (1,)\n",
    "    p_strides = (1,) + pool_strides + (1,)\n",
    "    \n",
    "    #1 Create weights for convolutional layer\n",
    "    weight = tf.Variable(tf.truncated_normal(\n",
    "        shape= w_shape,\n",
    "        mean = 0.0,\n",
    "        stddev = 0.1,\n",
    "        dtype = tf.float32\n",
    "    ))\n",
    "    #2 Create bias for convolutinal layer, depth = conv_num_outputs\n",
    "    bias = tf.Variable(tf.zeros(conv_num_outputs))\n",
    "    \n",
    "    #3 build the convolutinal layer\n",
    "    conv2d = tf.nn.conv2d(x_tensor, filter=weight, strides=c_strides, padding='SAME')\n",
    "    conv2d = tf.nn.bias_add(conv2d, bias)\n",
    "    conv2d = tf.nn.relu(conv2d)\n",
    "    \n",
    "    #4 build the max_pool layer\n",
    "    max_pool = tf.nn.max_pool(conv2d, ksize=p_ksize, strides=p_strides, padding='SAME')\n",
    "    \n",
    "    return max_pool\n",
    "\n",
    "\n",
    "\"\"\"\n",
    "DON'T MODIFY ANYTHING IN THIS CELL THAT IS BELOW THIS LINE\n",
    "\"\"\"\n",
    "tests.test_con_pool(conv2d_maxpool)"
   ]
  },
  {
   "cell_type": "markdown",
   "metadata": {
    "deletable": true,
    "editable": true
   },
   "source": [
    "### Flatten Layer\n",
    "Implement the `flatten` function to change the dimension of `x_tensor` from a 4-D tensor to a 2-D tensor.  The output should be the shape (*Batch Size*, *Flattened Image Size*). Shortcut option: you can use classes from the [TensorFlow Layers](https://www.tensorflow.org/api_docs/python/tf/layers) or [TensorFlow Layers (contrib)](https://www.tensorflow.org/api_guides/python/contrib.layers) packages for this layer. For more of a challenge, only use other TensorFlow packages."
   ]
  },
  {
   "cell_type": "code",
   "execution_count": 9,
   "metadata": {
    "collapsed": false,
    "deletable": true,
    "editable": true
   },
   "outputs": [
    {
     "name": "stdout",
     "output_type": "stream",
     "text": [
      "Tests Passed\n"
     ]
    }
   ],
   "source": [
    "def flatten(x_tensor):\n",
    "    \"\"\"\n",
    "    Flatten x_tensor to (Batch Size, Flattened Image Size)\n",
    "    : x_tensor: A tensor of size (Batch Size, ...), where ... are the image dimensions.\n",
    "    : return: A tensor of size (Batch Size, Flattened Image Size).\n",
    "    \"\"\"\n",
    "    # TODO: Implement Function\n",
    "    return tf.contrib.layers.flatten(x_tensor)\n",
    "\n",
    "\n",
    "\"\"\"\n",
    "DON'T MODIFY ANYTHING IN THIS CELL THAT IS BELOW THIS LINE\n",
    "\"\"\"\n",
    "tests.test_flatten(flatten)"
   ]
  },
  {
   "cell_type": "markdown",
   "metadata": {
    "deletable": true,
    "editable": true
   },
   "source": [
    "### Fully-Connected Layer\n",
    "Implement the `fully_conn` function to apply a fully connected layer to `x_tensor` with the shape (*Batch Size*, *num_outputs*). Shortcut option: you can use classes from the [TensorFlow Layers](https://www.tensorflow.org/api_docs/python/tf/layers) or [TensorFlow Layers (contrib)](https://www.tensorflow.org/api_guides/python/contrib.layers) packages for this layer. For more of a challenge, only use other TensorFlow packages."
   ]
  },
  {
   "cell_type": "code",
   "execution_count": 10,
   "metadata": {
    "collapsed": false,
    "deletable": true,
    "editable": true
   },
   "outputs": [
    {
     "name": "stdout",
     "output_type": "stream",
     "text": [
      "Tests Passed\n"
     ]
    }
   ],
   "source": [
    "def fully_conn(x_tensor, num_outputs):\n",
    "    \"\"\"\n",
    "    Apply a fully connected layer to x_tensor using weight and bias\n",
    "    : x_tensor: A 2-D tensor where the first dimension is batch size.\n",
    "    : num_outputs: The number of output that the new tensor should be.\n",
    "    : return: A 2-D tensor where the second dimension is num_outputs.\n",
    "    \"\"\"\n",
    "    # TODO: Implement Function\n",
    "    return tf.layers.dense(\n",
    "      inputs=x_tensor,\n",
    "      units=num_outputs)\n",
    "\n",
    "\n",
    "\"\"\"\n",
    "DON'T MODIFY ANYTHING IN THIS CELL THAT IS BELOW THIS LINE\n",
    "\"\"\"\n",
    "tests.test_fully_conn(fully_conn)"
   ]
  },
  {
   "cell_type": "markdown",
   "metadata": {
    "deletable": true,
    "editable": true
   },
   "source": [
    "### Output Layer\n",
    "Implement the `output` function to apply a fully connected layer to `x_tensor` with the shape (*Batch Size*, *num_outputs*). Shortcut option: you can use classes from the [TensorFlow Layers](https://www.tensorflow.org/api_docs/python/tf/layers) or [TensorFlow Layers (contrib)](https://www.tensorflow.org/api_guides/python/contrib.layers) packages for this layer. For more of a challenge, only use other TensorFlow packages.\n",
    "\n",
    "**Note:** Activation, softmax, or cross entropy should **not** be applied to this."
   ]
  },
  {
   "cell_type": "code",
   "execution_count": 11,
   "metadata": {
    "collapsed": false,
    "deletable": true,
    "editable": true
   },
   "outputs": [
    {
     "name": "stdout",
     "output_type": "stream",
     "text": [
      "Tests Passed\n"
     ]
    }
   ],
   "source": [
    "def output(x_tensor, num_outputs):\n",
    "    \"\"\"\n",
    "    Apply a output layer to x_tensor using weight and bias\n",
    "    : x_tensor: A 2-D tensor where the first dimension is batch size.\n",
    "    : num_outputs: The number of output that the new tensor should be.\n",
    "    : return: A 2-D tensor where the second dimension is num_outputs.\n",
    "    \"\"\"\n",
    "    # TODO: Implement Function\n",
    "    return tf.layers.dense(\n",
    "      inputs=x_tensor,\n",
    "      units=num_outputs)\n",
    "\n",
    "\n",
    "\"\"\"\n",
    "DON'T MODIFY ANYTHING IN THIS CELL THAT IS BELOW THIS LINE\n",
    "\"\"\"\n",
    "tests.test_output(output)"
   ]
  },
  {
   "cell_type": "markdown",
   "metadata": {
    "deletable": true,
    "editable": true
   },
   "source": [
    "### Create Convolutional Model\n",
    "Implement the function `conv_net` to create a convolutional neural network model. The function takes in a batch of images, `x`, and outputs logits.  Use the layers you created above to create this model:\n",
    "\n",
    "* Apply 1, 2, or 3 Convolution and Max Pool layers\n",
    "* Apply a Flatten Layer\n",
    "* Apply 1, 2, or 3 Fully Connected Layers\n",
    "* Apply an Output Layer\n",
    "* Return the output\n",
    "* Apply [TensorFlow's Dropout](https://www.tensorflow.org/api_docs/python/tf/nn/dropout) to one or more layers in the model using `keep_prob`. "
   ]
  },
  {
   "cell_type": "code",
   "execution_count": 12,
   "metadata": {
    "collapsed": false,
    "deletable": true,
    "editable": true
   },
   "outputs": [
    {
     "name": "stdout",
     "output_type": "stream",
     "text": [
      "Neural Network Built!\n"
     ]
    }
   ],
   "source": [
    "def conv_net(x, keep_prob):\n",
    "    \"\"\"\n",
    "    Create a convolutional neural network model\n",
    "    : x: Placeholder tensor that holds image data.\n",
    "    : keep_prob: Placeholder tensor that hold dropout keep probability.\n",
    "    : return: Tensor that represents logits\n",
    "    \"\"\"\n",
    "    # TODO: Apply 1, 2, or 3 Convolution and Max Pool layers\n",
    "    #    Play around with different number of outputs, kernel size and stride\n",
    "    # Function Definition from Above:\n",
    "    #    conv2d_maxpool(x_tensor, conv_num_outputs, conv_ksize, conv_strides, pool_ksize, pool_strides)\n",
    "    conv2d = conv2d_maxpool(x, 10, (2,2), (2,2), (2,2), (2,2))\n",
    "    conv2d = conv2d_maxpool(x, 20, (2,2), (2,2), (2,2), (2,2))\n",
    "    conv2d = conv2d_maxpool(x, 40, (2,2), (2,2), (2,2), (2,2))\n",
    "    \n",
    "    # TODO: Apply a Flatten Layer\n",
    "    # Function Definition from Above:\n",
    "    #   flatten(x_tensor)\n",
    "    flat = flatten(conv2d)\n",
    "\n",
    "    # TODO: Apply 1, 2, or 3 Fully Connected Layers\n",
    "    #    Play around with different number of outputs\n",
    "    # Function Definition from Above:\n",
    "    #   fully_conn(x_tensor, num_outputs)\n",
    "    full_con = fully_conn(flat, 80)\n",
    "    full_con = fully_conn(flat, 40)\n",
    "    full_con = fully_conn(flat, 20)\n",
    "    \n",
    "    # TODO: Apply an Output Layer\n",
    "    #    Set this to the number of classes\n",
    "    # Function Definition from Above:\n",
    "    #   output(x_tensor, num_outputs)\n",
    "    logits = output(full_con, 10)\n",
    "    \n",
    "    # TODO: return output\n",
    "    return logits\n",
    "\n",
    "\n",
    "\"\"\"\n",
    "DON'T MODIFY ANYTHING IN THIS CELL THAT IS BELOW THIS LINE\n",
    "\"\"\"\n",
    "\n",
    "##############################\n",
    "## Build the Neural Network ##\n",
    "##############################\n",
    "\n",
    "# Remove previous weights, bias, inputs, etc..\n",
    "tf.reset_default_graph()\n",
    "\n",
    "# Inputs\n",
    "x = neural_net_image_input((32, 32, 3))\n",
    "y = neural_net_label_input(10)\n",
    "keep_prob = neural_net_keep_prob_input()\n",
    "\n",
    "# Model\n",
    "logits = conv_net(x, keep_prob)\n",
    "\n",
    "# Name logits Tensor, so that is can be loaded from disk after training\n",
    "logits = tf.identity(logits, name='logits')\n",
    "\n",
    "# Loss and Optimizer\n",
    "cost = tf.reduce_mean(tf.nn.softmax_cross_entropy_with_logits(logits=logits, labels=y))\n",
    "optimizer = tf.train.AdamOptimizer().minimize(cost)\n",
    "\n",
    "# Accuracy\n",
    "correct_pred = tf.equal(tf.argmax(logits, 1), tf.argmax(y, 1))\n",
    "accuracy = tf.reduce_mean(tf.cast(correct_pred, tf.float32), name='accuracy')\n",
    "\n",
    "tests.test_conv_net(conv_net)"
   ]
  },
  {
   "cell_type": "markdown",
   "metadata": {
    "deletable": true,
    "editable": true
   },
   "source": [
    "## Train the Neural Network\n",
    "### Single Optimization\n",
    "Implement the function `train_neural_network` to do a single optimization.  The optimization should use `optimizer` to optimize in `session` with a `feed_dict` of the following:\n",
    "* `x` for image input\n",
    "* `y` for labels\n",
    "* `keep_prob` for keep probability for dropout\n",
    "\n",
    "This function will be called for each batch, so `tf.global_variables_initializer()` has already been called.\n",
    "\n",
    "Note: Nothing needs to be returned. This function is only optimizing the neural network."
   ]
  },
  {
   "cell_type": "code",
   "execution_count": 13,
   "metadata": {
    "collapsed": false,
    "deletable": true,
    "editable": true
   },
   "outputs": [
    {
     "name": "stdout",
     "output_type": "stream",
     "text": [
      "Tests Passed\n"
     ]
    }
   ],
   "source": [
    "def train_neural_network(session, optimizer, keep_probability, feature_batch, label_batch):\n",
    "    \"\"\"\n",
    "    Optimize the session on a batch of images and labels\n",
    "    : session: Current TensorFlow session\n",
    "    : optimizer: TensorFlow optimizer function\n",
    "    : keep_probability: keep probability\n",
    "    : feature_batch: Batch of Numpy image data\n",
    "    : label_batch: Batch of Numpy label data\n",
    "    \"\"\"\n",
    "    # TODO: Implement Function\n",
    "    session.run(optimizer, feed_dict = {keep_prob:keep_probability, x:feature_batch, y:label_batch})\n",
    "    pass\n",
    "\n",
    "\n",
    "\"\"\"\n",
    "DON'T MODIFY ANYTHING IN THIS CELL THAT IS BELOW THIS LINE\n",
    "\"\"\"\n",
    "tests.test_train_nn(train_neural_network)"
   ]
  },
  {
   "cell_type": "markdown",
   "metadata": {
    "deletable": true,
    "editable": true
   },
   "source": [
    "### Show Stats\n",
    "Implement the function `print_stats` to print loss and validation accuracy.  Use the global variables `valid_features` and `valid_labels` to calculate validation accuracy.  Use a keep probability of `1.0` to calculate the loss and validation accuracy."
   ]
  },
  {
   "cell_type": "code",
   "execution_count": 14,
   "metadata": {
    "collapsed": false,
    "deletable": true,
    "editable": true
   },
   "outputs": [],
   "source": [
    "def print_stats(session, feature_batch, label_batch, cost, accuracy):\n",
    "    \"\"\"\n",
    "    Print information about loss and validation accuracy\n",
    "    : session: Current TensorFlow session\n",
    "    : feature_batch: Batch of Numpy image data\n",
    "    : label_batch: Batch of Numpy label data\n",
    "    : cost: TensorFlow cost function\n",
    "    : accuracy: TensorFlow accuracy function\n",
    "    \"\"\"\n",
    "    # TODO: Implement Function\n",
    "    cost     = session.run(cost,     feed_dict = {x:feature_batch,  y:label_batch,  keep_prob:1.0})\n",
    "    accuracy = session.run(accuracy, feed_dict = {x:valid_features, y:valid_labels, keep_prob:1.0})\n",
    "    print(\"loss:{} accuracy: {}\".format(cost, accuracy))\n",
    "    pass"
   ]
  },
  {
   "cell_type": "markdown",
   "metadata": {
    "deletable": true,
    "editable": true
   },
   "source": [
    "### Hyperparameters\n",
    "Tune the following parameters:\n",
    "* Set `epochs` to the number of iterations until the network stops learning or start overfitting\n",
    "* Set `batch_size` to the highest number that your machine has memory for.  Most people set them to common sizes of memory:\n",
    " * 64\n",
    " * 128\n",
    " * 256\n",
    " * ...\n",
    "* Set `keep_probability` to the probability of keeping a node using dropout"
   ]
  },
  {
   "cell_type": "code",
   "execution_count": 15,
   "metadata": {
    "collapsed": true,
    "deletable": true,
    "editable": true
   },
   "outputs": [],
   "source": [
    "# TODO: Tune Parameters\n",
    "epochs = 25\n",
    "batch_size = 256\n",
    "keep_probability = 0.25"
   ]
  },
  {
   "cell_type": "markdown",
   "metadata": {
    "deletable": true,
    "editable": true
   },
   "source": [
    "### Train on a Single CIFAR-10 Batch\n",
    "Instead of training the neural network on all the CIFAR-10 batches of data, let's use a single batch. This should save time while you iterate on the model to get a better accuracy.  Once the final validation accuracy is 50% or greater, run the model on all the data in the next section."
   ]
  },
  {
   "cell_type": "code",
   "execution_count": 16,
   "metadata": {
    "collapsed": false,
    "deletable": true,
    "editable": true
   },
   "outputs": [
    {
     "name": "stdout",
     "output_type": "stream",
     "text": [
      "Checking the Training on a Single Batch...\n",
      "Epoch  1, CIFAR-10 Batch 1:  loss:2.1580371856689453 accuracy: 0.2759999930858612\n",
      "Epoch  2, CIFAR-10 Batch 1:  loss:2.0064165592193604 accuracy: 0.3546000123023987\n",
      "Epoch  3, CIFAR-10 Batch 1:  loss:1.8706233501434326 accuracy: 0.3953999876976013\n",
      "Epoch  4, CIFAR-10 Batch 1:  loss:1.7502238750457764 accuracy: 0.4185999929904938\n",
      "Epoch  5, CIFAR-10 Batch 1:  loss:1.6455090045928955 accuracy: 0.4413999915122986\n",
      "Epoch  6, CIFAR-10 Batch 1:  loss:1.55281662940979 accuracy: 0.454800009727478\n",
      "Epoch  7, CIFAR-10 Batch 1:  loss:1.4702460765838623 accuracy: 0.46799999475479126\n",
      "Epoch  8, CIFAR-10 Batch 1:  loss:1.396499752998352 accuracy: 0.47620001435279846\n",
      "Epoch  9, CIFAR-10 Batch 1:  loss:1.329602837562561 accuracy: 0.4867999851703644\n",
      "Epoch 10, CIFAR-10 Batch 1:  loss:1.2705634832382202 accuracy: 0.4968000054359436\n",
      "Epoch 11, CIFAR-10 Batch 1:  loss:1.2156792879104614 accuracy: 0.5013999938964844\n",
      "Epoch 12, CIFAR-10 Batch 1:  loss:1.1660655736923218 accuracy: 0.5031999945640564\n",
      "Epoch 13, CIFAR-10 Batch 1:  loss:1.1181288957595825 accuracy: 0.5054000020027161\n",
      "Epoch 14, CIFAR-10 Batch 1:  loss:1.0745775699615479 accuracy: 0.5120000243186951\n",
      "Epoch 15, CIFAR-10 Batch 1:  loss:1.0322455167770386 accuracy: 0.5131999850273132\n",
      "Epoch 16, CIFAR-10 Batch 1:  loss:0.9924477338790894 accuracy: 0.5185999870300293\n",
      "Epoch 17, CIFAR-10 Batch 1:  loss:0.954828143119812 accuracy: 0.5206000208854675\n",
      "Epoch 18, CIFAR-10 Batch 1:  loss:0.9187532663345337 accuracy: 0.5270000100135803\n",
      "Epoch 19, CIFAR-10 Batch 1:  loss:0.8850317001342773 accuracy: 0.5307999849319458\n",
      "Epoch 20, CIFAR-10 Batch 1:  loss:0.8528503179550171 accuracy: 0.5314000248908997\n",
      "Epoch 21, CIFAR-10 Batch 1:  loss:0.8213825225830078 accuracy: 0.5333999991416931\n",
      "Epoch 22, CIFAR-10 Batch 1:  loss:0.792186439037323 accuracy: 0.5351999998092651\n",
      "Epoch 23, CIFAR-10 Batch 1:  loss:0.7654270529747009 accuracy: 0.5371999740600586\n",
      "Epoch 24, CIFAR-10 Batch 1:  loss:0.7392948865890503 accuracy: 0.5382000207901001\n",
      "Epoch 25, CIFAR-10 Batch 1:  loss:0.7156224250793457 accuracy: 0.5383999943733215\n"
     ]
    }
   ],
   "source": [
    "\"\"\"\n",
    "DON'T MODIFY ANYTHING IN THIS CELL\n",
    "\"\"\"\n",
    "print('Checking the Training on a Single Batch...')\n",
    "with tf.Session() as sess:\n",
    "    # Initializing the variables\n",
    "    sess.run(tf.global_variables_initializer())\n",
    "    \n",
    "    # Training cycle\n",
    "    for epoch in range(epochs):\n",
    "        batch_i = 1\n",
    "        for batch_features, batch_labels in helper.load_preprocess_training_batch(batch_i, batch_size):\n",
    "            train_neural_network(sess, optimizer, keep_probability, batch_features, batch_labels)\n",
    "        print('Epoch {:>2}, CIFAR-10 Batch {}:  '.format(epoch + 1, batch_i), end='')\n",
    "        print_stats(sess, batch_features, batch_labels, cost, accuracy)"
   ]
  },
  {
   "cell_type": "markdown",
   "metadata": {
    "deletable": true,
    "editable": true
   },
   "source": [
    "### Fully Train the Model\n",
    "Now that you got a good accuracy with a single CIFAR-10 batch, try it with all five batches."
   ]
  },
  {
   "cell_type": "code",
   "execution_count": 17,
   "metadata": {
    "collapsed": false,
    "deletable": true,
    "editable": true
   },
   "outputs": [
    {
     "name": "stdout",
     "output_type": "stream",
     "text": [
      "Training...\n",
      "Epoch  1, CIFAR-10 Batch 1:  loss:2.098423719406128 accuracy: 0.27239999175071716\n",
      "Epoch  1, CIFAR-10 Batch 2:  loss:1.8996950387954712 accuracy: 0.3662000000476837\n",
      "Epoch  1, CIFAR-10 Batch 3:  loss:1.6696475744247437 accuracy: 0.36660000681877136\n",
      "Epoch  1, CIFAR-10 Batch 4:  loss:1.6652538776397705 accuracy: 0.40779998898506165\n",
      "Epoch  1, CIFAR-10 Batch 5:  loss:1.6764180660247803 accuracy: 0.4374000132083893\n",
      "Epoch  2, CIFAR-10 Batch 1:  loss:1.8413127660751343 accuracy: 0.4458000063896179\n",
      "Epoch  2, CIFAR-10 Batch 2:  loss:1.5036299228668213 accuracy: 0.4596000015735626\n",
      "Epoch  2, CIFAR-10 Batch 3:  loss:1.3785934448242188 accuracy: 0.4796000123023987\n",
      "Epoch  2, CIFAR-10 Batch 4:  loss:1.461686372756958 accuracy: 0.4772000014781952\n",
      "Epoch  2, CIFAR-10 Batch 5:  loss:1.4800279140472412 accuracy: 0.49639999866485596\n",
      "Epoch  3, CIFAR-10 Batch 1:  loss:1.615661382675171 accuracy: 0.5052000284194946\n",
      "Epoch  3, CIFAR-10 Batch 2:  loss:1.2870501279830933 accuracy: 0.49900001287460327\n",
      "Epoch  3, CIFAR-10 Batch 3:  loss:1.199855923652649 accuracy: 0.5166000127792358\n",
      "Epoch  3, CIFAR-10 Batch 4:  loss:1.3224396705627441 accuracy: 0.5130000114440918\n",
      "Epoch  3, CIFAR-10 Batch 5:  loss:1.3419345617294312 accuracy: 0.5210000276565552\n",
      "Epoch  4, CIFAR-10 Batch 1:  loss:1.4821536540985107 accuracy: 0.5324000120162964\n",
      "Epoch  4, CIFAR-10 Batch 2:  loss:1.148911952972412 accuracy: 0.5198000073432922\n",
      "Epoch  4, CIFAR-10 Batch 3:  loss:1.065908432006836 accuracy: 0.5400000214576721\n",
      "Epoch  4, CIFAR-10 Batch 4:  loss:1.2192199230194092 accuracy: 0.5396000146865845\n",
      "Epoch  4, CIFAR-10 Batch 5:  loss:1.238012671470642 accuracy: 0.5414000153541565\n",
      "Epoch  5, CIFAR-10 Batch 1:  loss:1.389628529548645 accuracy: 0.5501999855041504\n",
      "Epoch  5, CIFAR-10 Batch 2:  loss:1.0503451824188232 accuracy: 0.5397999882698059\n",
      "Epoch  5, CIFAR-10 Batch 3:  loss:0.9673080444335938 accuracy: 0.5468000173568726\n",
      "Epoch  5, CIFAR-10 Batch 4:  loss:1.1471370458602905 accuracy: 0.5582000017166138\n",
      "Epoch  5, CIFAR-10 Batch 5:  loss:1.1479880809783936 accuracy: 0.5547999739646912\n",
      "Epoch  6, CIFAR-10 Batch 1:  loss:1.3318475484848022 accuracy: 0.5586000084877014\n",
      "Epoch  6, CIFAR-10 Batch 2:  loss:0.9764320254325867 accuracy: 0.5540000200271606\n",
      "Epoch  6, CIFAR-10 Batch 3:  loss:0.895856499671936 accuracy: 0.5577999949455261\n",
      "Epoch  6, CIFAR-10 Batch 4:  loss:1.091254472732544 accuracy: 0.5636000037193298\n",
      "Epoch  6, CIFAR-10 Batch 5:  loss:1.0692756175994873 accuracy: 0.5608000159263611\n",
      "Epoch  7, CIFAR-10 Batch 1:  loss:1.2845919132232666 accuracy: 0.5667999982833862\n",
      "Epoch  7, CIFAR-10 Batch 2:  loss:0.917414665222168 accuracy: 0.5586000084877014\n",
      "Epoch  7, CIFAR-10 Batch 3:  loss:0.8419106602668762 accuracy: 0.5630000233650208\n",
      "Epoch  7, CIFAR-10 Batch 4:  loss:1.0399417877197266 accuracy: 0.5699999928474426\n",
      "Epoch  7, CIFAR-10 Batch 5:  loss:0.9994394183158875 accuracy: 0.5681999921798706\n",
      "Epoch  8, CIFAR-10 Batch 1:  loss:1.244117021560669 accuracy: 0.5709999799728394\n",
      "Epoch  8, CIFAR-10 Batch 2:  loss:0.8674815893173218 accuracy: 0.5651999711990356\n",
      "Epoch  8, CIFAR-10 Batch 3:  loss:0.8008386492729187 accuracy: 0.5727999806404114\n",
      "Epoch  8, CIFAR-10 Batch 4:  loss:0.992078423500061 accuracy: 0.5745999813079834\n",
      "Epoch  8, CIFAR-10 Batch 5:  loss:0.9404468536376953 accuracy: 0.5722000002861023\n",
      "Epoch  9, CIFAR-10 Batch 1:  loss:1.2078757286071777 accuracy: 0.5781999826431274\n",
      "Epoch  9, CIFAR-10 Batch 2:  loss:0.8254011273384094 accuracy: 0.5669999718666077\n",
      "Epoch  9, CIFAR-10 Batch 3:  loss:0.7637593150138855 accuracy: 0.579200029373169\n",
      "Epoch  9, CIFAR-10 Batch 4:  loss:0.9485334157943726 accuracy: 0.5789999961853027\n",
      "Epoch  9, CIFAR-10 Batch 5:  loss:0.8892386555671692 accuracy: 0.5767999887466431\n",
      "Epoch 10, CIFAR-10 Batch 1:  loss:1.1746059656143188 accuracy: 0.5827999711036682\n",
      "Epoch 10, CIFAR-10 Batch 2:  loss:0.7846546173095703 accuracy: 0.5684000253677368\n",
      "Epoch 10, CIFAR-10 Batch 3:  loss:0.7339167594909668 accuracy: 0.5803999900817871\n",
      "Epoch 10, CIFAR-10 Batch 4:  loss:0.9084018468856812 accuracy: 0.58160001039505\n",
      "Epoch 10, CIFAR-10 Batch 5:  loss:0.8469097018241882 accuracy: 0.5807999968528748\n",
      "Epoch 11, CIFAR-10 Batch 1:  loss:1.144526720046997 accuracy: 0.5839999914169312\n",
      "Epoch 11, CIFAR-10 Batch 2:  loss:0.7488672137260437 accuracy: 0.5687999725341797\n",
      "Epoch 11, CIFAR-10 Batch 3:  loss:0.7050694823265076 accuracy: 0.5807999968528748\n",
      "Epoch 11, CIFAR-10 Batch 4:  loss:0.8705849647521973 accuracy: 0.5861999988555908\n",
      "Epoch 11, CIFAR-10 Batch 5:  loss:0.8117305636405945 accuracy: 0.5838000178337097\n",
      "Epoch 12, CIFAR-10 Batch 1:  loss:1.115614652633667 accuracy: 0.5852000117301941\n",
      "Epoch 12, CIFAR-10 Batch 2:  loss:0.7159256935119629 accuracy: 0.5694000124931335\n",
      "Epoch 12, CIFAR-10 Batch 3:  loss:0.6779261827468872 accuracy: 0.5867999792098999\n",
      "Epoch 12, CIFAR-10 Batch 4:  loss:0.8359687924385071 accuracy: 0.5885999798774719\n",
      "Epoch 12, CIFAR-10 Batch 5:  loss:0.7797084450721741 accuracy: 0.5871999859809875\n",
      "Epoch 13, CIFAR-10 Batch 1:  loss:1.0895723104476929 accuracy: 0.5860000252723694\n",
      "Epoch 13, CIFAR-10 Batch 2:  loss:0.6862329244613647 accuracy: 0.5717999935150146\n",
      "Epoch 13, CIFAR-10 Batch 3:  loss:0.6530078053474426 accuracy: 0.5917999744415283\n",
      "Epoch 13, CIFAR-10 Batch 4:  loss:0.8056331872940063 accuracy: 0.5893999934196472\n",
      "Epoch 13, CIFAR-10 Batch 5:  loss:0.7548166513442993 accuracy: 0.5878000259399414\n",
      "Epoch 14, CIFAR-10 Batch 1:  loss:1.0630937814712524 accuracy: 0.5898000001907349\n",
      "Epoch 14, CIFAR-10 Batch 2:  loss:0.6593744158744812 accuracy: 0.5740000009536743\n",
      "Epoch 14, CIFAR-10 Batch 3:  loss:0.6297184228897095 accuracy: 0.59579998254776\n",
      "Epoch 14, CIFAR-10 Batch 4:  loss:0.7766997218132019 accuracy: 0.5910000205039978\n",
      "Epoch 14, CIFAR-10 Batch 5:  loss:0.7305893898010254 accuracy: 0.5896000266075134\n",
      "Epoch 15, CIFAR-10 Batch 1:  loss:1.0403903722763062 accuracy: 0.5932000279426575\n",
      "Epoch 15, CIFAR-10 Batch 2:  loss:0.6329485177993774 accuracy: 0.5759999752044678\n",
      "Epoch 15, CIFAR-10 Batch 3:  loss:0.6078430414199829 accuracy: 0.5992000102996826\n",
      "Epoch 15, CIFAR-10 Batch 4:  loss:0.7490652203559875 accuracy: 0.5914000272750854\n",
      "Epoch 15, CIFAR-10 Batch 5:  loss:0.7104995846748352 accuracy: 0.5917999744415283\n",
      "Epoch 16, CIFAR-10 Batch 1:  loss:1.0190918445587158 accuracy: 0.593999981880188\n",
      "Epoch 16, CIFAR-10 Batch 2:  loss:0.6096806526184082 accuracy: 0.5789999961853027\n",
      "Epoch 16, CIFAR-10 Batch 3:  loss:0.5876384973526001 accuracy: 0.6011999845504761\n",
      "Epoch 16, CIFAR-10 Batch 4:  loss:0.7237589955329895 accuracy: 0.5906000137329102\n",
      "Epoch 16, CIFAR-10 Batch 5:  loss:0.6910468935966492 accuracy: 0.5943999886512756\n",
      "Epoch 17, CIFAR-10 Batch 1:  loss:0.999565601348877 accuracy: 0.5974000096321106\n",
      "Epoch 17, CIFAR-10 Batch 2:  loss:0.58758544921875 accuracy: 0.578000009059906\n",
      "Epoch 17, CIFAR-10 Batch 3:  loss:0.5680204033851624 accuracy: 0.6003999710083008\n",
      "Epoch 17, CIFAR-10 Batch 4:  loss:0.6984120607376099 accuracy: 0.5924000144004822\n",
      "Epoch 17, CIFAR-10 Batch 5:  loss:0.6739156246185303 accuracy: 0.5953999757766724\n",
      "Epoch 18, CIFAR-10 Batch 1:  loss:0.9809781312942505 accuracy: 0.6003999710083008\n",
      "Epoch 18, CIFAR-10 Batch 2:  loss:0.5668195486068726 accuracy: 0.5785999894142151\n",
      "Epoch 18, CIFAR-10 Batch 3:  loss:0.5502618551254272 accuracy: 0.6010000109672546\n",
      "Epoch 18, CIFAR-10 Batch 4:  loss:0.6743162870407104 accuracy: 0.5929999947547913\n",
      "Epoch 18, CIFAR-10 Batch 5:  loss:0.6581987142562866 accuracy: 0.5952000021934509\n",
      "Epoch 19, CIFAR-10 Batch 1:  loss:0.9646152257919312 accuracy: 0.6033999919891357\n",
      "Epoch 19, CIFAR-10 Batch 2:  loss:0.5478802919387817 accuracy: 0.5795999765396118\n",
      "Epoch 19, CIFAR-10 Batch 3:  loss:0.5341911315917969 accuracy: 0.6007999777793884\n",
      "Epoch 19, CIFAR-10 Batch 4:  loss:0.6511651277542114 accuracy: 0.5946000218391418\n",
      "Epoch 19, CIFAR-10 Batch 5:  loss:0.6438769698143005 accuracy: 0.597000002861023\n",
      "Epoch 20, CIFAR-10 Batch 1:  loss:0.9502071142196655 accuracy: 0.6043999791145325\n",
      "Epoch 20, CIFAR-10 Batch 2:  loss:0.5311082005500793 accuracy: 0.5842000246047974\n",
      "Epoch 20, CIFAR-10 Batch 3:  loss:0.5201364159584045 accuracy: 0.6000000238418579\n",
      "Epoch 20, CIFAR-10 Batch 4:  loss:0.6280463337898254 accuracy: 0.5983999967575073\n",
      "Epoch 20, CIFAR-10 Batch 5:  loss:0.6301749348640442 accuracy: 0.5982000231742859\n",
      "Epoch 21, CIFAR-10 Batch 1:  loss:0.9339022636413574 accuracy: 0.6028000116348267\n",
      "Epoch 21, CIFAR-10 Batch 2:  loss:0.5148756504058838 accuracy: 0.5879999995231628\n",
      "Epoch 21, CIFAR-10 Batch 3:  loss:0.5049906969070435 accuracy: 0.598800003528595\n",
      "Epoch 21, CIFAR-10 Batch 4:  loss:0.6053529977798462 accuracy: 0.6011999845504761\n",
      "Epoch 21, CIFAR-10 Batch 5:  loss:0.6185300350189209 accuracy: 0.6000000238418579\n",
      "Epoch 22, CIFAR-10 Batch 1:  loss:0.9181594848632812 accuracy: 0.603600025177002\n",
      "Epoch 22, CIFAR-10 Batch 2:  loss:0.5006921291351318 accuracy: 0.5916000008583069\n",
      "Epoch 22, CIFAR-10 Batch 3:  loss:0.49213290214538574 accuracy: 0.5983999967575073\n",
      "Epoch 22, CIFAR-10 Batch 4:  loss:0.5847876667976379 accuracy: 0.6029999852180481\n",
      "Epoch 22, CIFAR-10 Batch 5:  loss:0.6067743301391602 accuracy: 0.6018000245094299\n",
      "Epoch 23, CIFAR-10 Batch 1:  loss:0.9021045565605164 accuracy: 0.6039999723434448\n",
      "Epoch 23, CIFAR-10 Batch 2:  loss:0.4876042306423187 accuracy: 0.593999981880188\n",
      "Epoch 23, CIFAR-10 Batch 3:  loss:0.47915536165237427 accuracy: 0.5989999771118164\n",
      "Epoch 23, CIFAR-10 Batch 4:  loss:0.5638949275016785 accuracy: 0.6043999791145325\n",
      "Epoch 23, CIFAR-10 Batch 5:  loss:0.5956777930259705 accuracy: 0.6011999845504761\n",
      "Epoch 24, CIFAR-10 Batch 1:  loss:0.8878903388977051 accuracy: 0.604200005531311\n",
      "Epoch 24, CIFAR-10 Batch 2:  loss:0.4749529957771301 accuracy: 0.5989999771118164\n",
      "Epoch 24, CIFAR-10 Batch 3:  loss:0.46642714738845825 accuracy: 0.597599983215332\n",
      "Epoch 24, CIFAR-10 Batch 4:  loss:0.5457812547683716 accuracy: 0.6055999994277954\n",
      "Epoch 24, CIFAR-10 Batch 5:  loss:0.5851970911026001 accuracy: 0.6021999716758728\n",
      "Epoch 25, CIFAR-10 Batch 1:  loss:0.8725255727767944 accuracy: 0.6068000197410583\n",
      "Epoch 25, CIFAR-10 Batch 2:  loss:0.46377333998680115 accuracy: 0.6000000238418579\n",
      "Epoch 25, CIFAR-10 Batch 3:  loss:0.4558962881565094 accuracy: 0.597599983215332\n",
      "Epoch 25, CIFAR-10 Batch 4:  loss:0.5282596349716187 accuracy: 0.607200026512146\n",
      "Epoch 25, CIFAR-10 Batch 5:  loss:0.5741430521011353 accuracy: 0.6014000177383423\n"
     ]
    }
   ],
   "source": [
    "\"\"\"\n",
    "DON'T MODIFY ANYTHING IN THIS CELL\n",
    "\"\"\"\n",
    "save_model_path = './image_classification'\n",
    "\n",
    "print('Training...')\n",
    "with tf.Session() as sess:\n",
    "    # Initializing the variables\n",
    "    sess.run(tf.global_variables_initializer())\n",
    "    \n",
    "    # Training cycle\n",
    "    for epoch in range(epochs):\n",
    "        # Loop over all batches\n",
    "        n_batches = 5\n",
    "        for batch_i in range(1, n_batches + 1):\n",
    "            for batch_features, batch_labels in helper.load_preprocess_training_batch(batch_i, batch_size):\n",
    "                train_neural_network(sess, optimizer, keep_probability, batch_features, batch_labels)\n",
    "            print('Epoch {:>2}, CIFAR-10 Batch {}:  '.format(epoch + 1, batch_i), end='')\n",
    "            print_stats(sess, batch_features, batch_labels, cost, accuracy)\n",
    "            \n",
    "    # Save Model\n",
    "    saver = tf.train.Saver()\n",
    "    save_path = saver.save(sess, save_model_path)"
   ]
  },
  {
   "cell_type": "markdown",
   "metadata": {
    "deletable": true,
    "editable": true
   },
   "source": [
    "# Checkpoint\n",
    "The model has been saved to disk.\n",
    "## Test Model\n",
    "Test your model against the test dataset.  This will be your final accuracy. You should have an accuracy greater than 50%. If you don't, keep tweaking the model architecture and parameters."
   ]
  },
  {
   "cell_type": "code",
   "execution_count": 18,
   "metadata": {
    "collapsed": false,
    "deletable": true,
    "editable": true
   },
   "outputs": [
    {
     "name": "stdout",
     "output_type": "stream",
     "text": [
      "INFO:tensorflow:Restoring parameters from ./image_classification\n",
      "Testing Accuracy: 0.6080078125\n",
      "\n"
     ]
    },
    {
     "data": {
      "image/png": "[encoded data removed]",
      "text/plain": [
       "<matplotlib.figure.Figure at 0x118a532e8>"
      ]
     },
     "metadata": {
      "image/png": {
       "height": 319,
       "width": 355
      }
     },
     "output_type": "display_data"
    }
   ],
   "source": [
    "\"\"\"\n",
    "DON'T MODIFY ANYTHING IN THIS CELL\n",
    "\"\"\"\n",
    "%matplotlib inline\n",
    "%config InlineBackend.figure_format = 'retina'\n",
    "\n",
    "import tensorflow as tf\n",
    "import pickle\n",
    "import helper\n",
    "import random\n",
    "\n",
    "# Set batch size if not already set\n",
    "try:\n",
    "    if batch_size:\n",
    "        pass\n",
    "except NameError:\n",
    "    batch_size = 64\n",
    "\n",
    "save_model_path = './image_classification'\n",
    "n_samples = 4\n",
    "top_n_predictions = 3\n",
    "\n",
    "def test_model():\n",
    "    \"\"\"\n",
    "    Test the saved model against the test dataset\n",
    "    \"\"\"\n",
    "\n",
    "    test_features, test_labels = pickle.load(open('preprocess_test.p', mode='rb'))\n",
    "    loaded_graph = tf.Graph()\n",
    "\n",
    "    with tf.Session(graph=loaded_graph) as sess:\n",
    "        # Load model\n",
    "        loader = tf.train.import_meta_graph(save_model_path + '.meta')\n",
    "        loader.restore(sess, save_model_path)\n",
    "\n",
    "        # Get Tensors from loaded model\n",
    "        loaded_x = loaded_graph.get_tensor_by_name('x:0')\n",
    "        loaded_y = loaded_graph.get_tensor_by_name('y:0')\n",
    "        loaded_keep_prob = loaded_graph.get_tensor_by_name('keep_prob:0')\n",
    "        loaded_logits = loaded_graph.get_tensor_by_name('logits:0')\n",
    "        loaded_acc = loaded_graph.get_tensor_by_name('accuracy:0')\n",
    "        \n",
    "        # Get accuracy in batches for memory limitations\n",
    "        test_batch_acc_total = 0\n",
    "        test_batch_count = 0\n",
    "        \n",
    "        for test_feature_batch, test_label_batch in helper.batch_features_labels(test_features, test_labels, batch_size):\n",
    "            test_batch_acc_total += sess.run(\n",
    "                loaded_acc,\n",
    "                feed_dict={loaded_x: test_feature_batch, loaded_y: test_label_batch, loaded_keep_prob: 1.0})\n",
    "            test_batch_count += 1\n",
    "\n",
    "        print('Testing Accuracy: {}\\n'.format(test_batch_acc_total/test_batch_count))\n",
    "\n",
    "        # Print Random Samples\n",
    "        random_test_features, random_test_labels = tuple(zip(*random.sample(list(zip(test_features, test_labels)), n_samples)))\n",
    "        random_test_predictions = sess.run(\n",
    "            tf.nn.top_k(tf.nn.softmax(loaded_logits), top_n_predictions),\n",
    "            feed_dict={loaded_x: random_test_features, loaded_y: random_test_labels, loaded_keep_prob: 1.0})\n",
    "        helper.display_image_predictions(random_test_features, random_test_labels, random_test_predictions)\n",
    "\n",
    "\n",
    "test_model()"
   ]
  },
  {
   "cell_type": "markdown",
   "metadata": {
    "deletable": true,
    "editable": true
   },
   "source": [
    "## Why 50-80% Accuracy?\n",
    "You might be wondering why you can't get an accuracy any higher. First things first, 50% isn't bad for a simple CNN.  Pure guessing would get you 10% accuracy. However, you might notice people are getting scores [well above 80%](http://rodrigob.github.io/are_we_there_yet/build/classification_datasets_results.html#43494641522d3130).  That's because we haven't taught you all there is to know about neural networks. We still need to cover a few more techniques.\n",
    "## Submitting This Project\n",
    "When submitting this project, make sure to run all the cells before saving the notebook.  Save the notebook file as \"dlnd_image_classification.ipynb\" and save it as a HTML file under \"File\" -> \"Download as\".  Include the \"helper.py\" and \"problem_unittests.py\" files in your submission."
   ]
  }
 ],
 "metadata": {
  "kernelspec": {
   "display_name": "Python 3",
   "language": "python",
   "name": "python3"
  },
  "language_info": {
   "codemirror_mode": {
    "name": "ipython",
    "version": 3
   },
   "file_extension": ".py",
   "mimetype": "text/x-python",
   "name": "python",
   "nbconvert_exporter": "python",
   "pygments_lexer": "ipython3",
   "version": "3.6.1"
  }
 },
 "nbformat": 4,
 "nbformat_minor": 0
}
