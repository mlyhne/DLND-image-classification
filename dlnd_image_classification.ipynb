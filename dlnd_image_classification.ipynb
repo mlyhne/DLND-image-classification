{
 "cells": [
  {
   "cell_type": "markdown",
   "metadata": {
    "collapsed": true,
    "deletable": true,
    "editable": true
   },
   "source": [
    "# Image Classification\n",
    "In this project, you'll classify images from the [CIFAR-10 dataset](https://www.cs.toronto.edu/~kriz/cifar.html).  The dataset consists of airplanes, dogs, cats, and other objects. You'll preprocess the images, then train a convolutional neural network on all the samples. The images need to be normalized and the labels need to be one-hot encoded.  You'll get to apply what you learned and build a convolutional, max pooling, dropout, and fully connected layers.  At the end, you'll get to see your neural network's predictions on the sample images.\n",
    "## Get the Data\n",
    "Run the following cell to download the [CIFAR-10 dataset for python](https://www.cs.toronto.edu/~kriz/cifar-10-python.tar.gz)."
   ]
  },
  {
   "cell_type": "code",
   "execution_count": 1,
   "metadata": {
    "collapsed": false,
    "deletable": true,
    "editable": true
   },
   "outputs": [
    {
     "name": "stdout",
     "output_type": "stream",
     "text": [
      "All files found!\n"
     ]
    }
   ],
   "source": [
    "\"\"\"\n",
    "DON'T MODIFY ANYTHING IN THIS CELL THAT IS BELOW THIS LINE\n",
    "\"\"\"\n",
    "from urllib.request import urlretrieve\n",
    "from os.path import isfile, isdir\n",
    "from tqdm import tqdm\n",
    "import problem_unittests as tests\n",
    "import tarfile\n",
    "\n",
    "cifar10_dataset_folder_path = 'cifar-10-batches-py'\n",
    "\n",
    "# Use Floyd's cifar-10 dataset if present\n",
    "floyd_cifar10_location = '/input/cifar-10/python.tar.gz'\n",
    "if isfile(floyd_cifar10_location):\n",
    "    tar_gz_path = floyd_cifar10_location\n",
    "else:\n",
    "    tar_gz_path = 'cifar-10-python.tar.gz'\n",
    "\n",
    "class DLProgress(tqdm):\n",
    "    last_block = 0\n",
    "\n",
    "    def hook(self, block_num=1, block_size=1, total_size=None):\n",
    "        self.total = total_size\n",
    "        self.update((block_num - self.last_block) * block_size)\n",
    "        self.last_block = block_num\n",
    "\n",
    "if not isfile(tar_gz_path):\n",
    "    with DLProgress(unit='B', unit_scale=True, miniters=1, desc='CIFAR-10 Dataset') as pbar:\n",
    "        urlretrieve(\n",
    "            'https://www.cs.toronto.edu/~kriz/cifar-10-python.tar.gz',\n",
    "            tar_gz_path,\n",
    "            pbar.hook)\n",
    "\n",
    "if not isdir(cifar10_dataset_folder_path):\n",
    "    with tarfile.open(tar_gz_path) as tar:\n",
    "        tar.extractall()\n",
    "        tar.close()\n",
    "\n",
    "\n",
    "tests.test_folder_path(cifar10_dataset_folder_path)"
   ]
  },
  {
   "cell_type": "markdown",
   "metadata": {
    "deletable": true,
    "editable": true
   },
   "source": [
    "## Explore the Data\n",
    "The dataset is broken into batches to prevent your machine from running out of memory.  The CIFAR-10 dataset consists of 5 batches, named `data_batch_1`, `data_batch_2`, etc.. Each batch contains the labels and images that are one of the following:\n",
    "* airplane\n",
    "* automobile\n",
    "* bird\n",
    "* cat\n",
    "* deer\n",
    "* dog\n",
    "* frog\n",
    "* horse\n",
    "* ship\n",
    "* truck\n",
    "\n",
    "Understanding a dataset is part of making predictions on the data.  Play around with the code cell below by changing the `batch_id` and `sample_id`. The `batch_id` is the id for a batch (1-5). The `sample_id` is the id for a image and label pair in the batch.\n",
    "\n",
    "Ask yourself \"What are all possible labels?\", \"What is the range of values for the image data?\", \"Are the labels in order or random?\".  Answers to questions like these will help you preprocess the data and end up with better predictions."
   ]
  },
  {
   "cell_type": "code",
   "execution_count": 2,
   "metadata": {
    "collapsed": false,
    "deletable": true,
    "editable": true
   },
   "outputs": [
    {
     "name": "stdout",
     "output_type": "stream",
     "text": [
      "\n",
      "Stats of batch 4:\n",
      "Samples: 10000\n",
      "Label Counts: {0: 1003, 1: 963, 2: 1041, 3: 976, 4: 1004, 5: 1021, 6: 1004, 7: 981, 8: 1024, 9: 983}\n",
      "First 20 Labels: [0, 6, 0, 2, 7, 2, 1, 2, 4, 1, 5, 6, 6, 3, 1, 3, 5, 5, 8, 1]\n",
      "\n",
      "Example of Image 42:\n",
      "Image - Min Value: 7 Max Value: 255\n",
      "Image - Shape: (32, 32, 3)\n",
      "Label - Label Id: 5 Name: dog\n"
     ]
    },
    {
     "data": {
      "image/png": "[encoded data removed]",
      "text/plain": [
       "<matplotlib.figure.Figure at 0x11c554128>"
      ]
     },
     "metadata": {
      "image/png": {
       "height": 250,
       "width": 253
      }
     },
     "output_type": "display_data"
    }
   ],
   "source": [
    "%matplotlib inline\n",
    "%config InlineBackend.figure_format = 'retina'\n",
    "\n",
    "import helper\n",
    "import numpy as np\n",
    "\n",
    "# Explore the dataset\n",
    "batch_id = 4\n",
    "sample_id = 42\n",
    "helper.display_stats(cifar10_dataset_folder_path, batch_id, sample_id)"
   ]
  },
  {
   "cell_type": "markdown",
   "metadata": {
    "deletable": true,
    "editable": true
   },
   "source": [
    "## Implement Preprocess Functions\n",
    "### Normalize\n",
    "In the cell below, implement the `normalize` function to take in image data, `x`, and return it as a normalized Numpy array. The values should be in the range of 0 to 1, inclusive.  The return object should be the same shape as `x`."
   ]
  },
  {
   "cell_type": "code",
   "execution_count": 3,
   "metadata": {
    "collapsed": false,
    "deletable": true,
    "editable": true
   },
   "outputs": [
    {
     "name": "stdout",
     "output_type": "stream",
     "text": [
      "Tests Passed\n"
     ]
    }
   ],
   "source": [
    "def normalize(x):\n",
    "    \"\"\"\n",
    "    Normalize a list of sample image data in the range of 0 to 1\n",
    "    : x: List of image data.  The image shape is (32, 32, 3)\n",
    "    : return: Numpy array of normalize data\n",
    "    \"\"\"\n",
    "    # TODO: Implement Function\n",
    "    # min = 0\n",
    "    # max = 255\n",
    "    # x_normalized = (x+min) / (max-min)\n",
    "    return x/255\n",
    "\n",
    "\n",
    "\"\"\"\n",
    "DON'T MODIFY ANYTHING IN THIS CELL THAT IS BELOW THIS LINE\n",
    "\"\"\"\n",
    "tests.test_normalize(normalize)"
   ]
  },
  {
   "cell_type": "markdown",
   "metadata": {
    "deletable": true,
    "editable": true
   },
   "source": [
    "### One-hot encode\n",
    "Just like the previous code cell, you'll be implementing a function for preprocessing.  This time, you'll implement the `one_hot_encode` function. The input, `x`, are a list of labels.  Implement the function to return the list of labels as One-Hot encoded Numpy array.  The possible values for labels are 0 to 9. The one-hot encoding function should return the same encoding for each value between each call to `one_hot_encode`.  Make sure to save the map of encodings outside the function.\n",
    "\n",
    "Hint: Don't reinvent the wheel."
   ]
  },
  {
   "cell_type": "code",
   "execution_count": 4,
   "metadata": {
    "collapsed": false,
    "deletable": true,
    "editable": true
   },
   "outputs": [
    {
     "name": "stdout",
     "output_type": "stream",
     "text": [
      "Tests Passed\n"
     ]
    }
   ],
   "source": [
    "def one_hot_encode(x):\n",
    "    \"\"\"\n",
    "    One hot encode a list of sample labels. Return a one-hot encoded vector for each label.\n",
    "    : x: List of sample Labels\n",
    "    : return: Numpy array of one-hot encoded labels\n",
    "    \"\"\"\n",
    "    # TODO: Implement Function\n",
    "    # make np.array with shape (lenght of x array, 10 labels)\n",
    "    output = np.array(np.zeros(len(x)*10)).reshape(len(x),10)\n",
    "    for i in range(len(x)):\n",
    "        one_hot = np.zeros(10)\n",
    "        one_hot[x[i]] = 1\n",
    "        output[i] = one_hot\n",
    "    return output\n",
    "\n",
    "\n",
    "\"\"\"\n",
    "DON'T MODIFY ANYTHING IN THIS CELL THAT IS BELOW THIS LINE\n",
    "\"\"\"\n",
    "tests.test_one_hot_encode(one_hot_encode)"
   ]
  },
  {
   "cell_type": "markdown",
   "metadata": {
    "deletable": true,
    "editable": true
   },
   "source": [
    "### Randomize Data\n",
    "As you saw from exploring the data above, the order of the samples are randomized.  It doesn't hurt to randomize it again, but you don't need to for this dataset."
   ]
  },
  {
   "cell_type": "markdown",
   "metadata": {
    "deletable": true,
    "editable": true
   },
   "source": [
    "## Preprocess all the data and save it\n",
    "Running the code cell below will preprocess all the CIFAR-10 data and save it to file. The code below also uses 10% of the training data for validation."
   ]
  },
  {
   "cell_type": "code",
   "execution_count": 5,
   "metadata": {
    "collapsed": false,
    "deletable": true,
    "editable": true
   },
   "outputs": [],
   "source": [
    "\"\"\"\n",
    "DON'T MODIFY ANYTHING IN THIS CELL\n",
    "\"\"\"\n",
    "# Preprocess Training, Validation, and Testing Data\n",
    "helper.preprocess_and_save_data(cifar10_dataset_folder_path, normalize, one_hot_encode)"
   ]
  },
  {
   "cell_type": "markdown",
   "metadata": {
    "deletable": true,
    "editable": true
   },
   "source": [
    "# Check Point\n",
    "This is your first checkpoint.  If you ever decide to come back to this notebook or have to restart the notebook, you can start from here.  The preprocessed data has been saved to disk."
   ]
  },
  {
   "cell_type": "code",
   "execution_count": 6,
   "metadata": {
    "collapsed": false,
    "deletable": true,
    "editable": true
   },
   "outputs": [],
   "source": [
    "\"\"\"\n",
    "DON'T MODIFY ANYTHING IN THIS CELL\n",
    "\"\"\"\n",
    "import pickle\n",
    "import problem_unittests as tests\n",
    "import helper\n",
    "\n",
    "# Load the Preprocessed Validation data\n",
    "valid_features, valid_labels = pickle.load(open('preprocess_validation.p', mode='rb'))"
   ]
  },
  {
   "cell_type": "markdown",
   "metadata": {
    "deletable": true,
    "editable": true
   },
   "source": [
    "## Build the network\n",
    "For the neural network, you'll build each layer into a function.  Most of the code you've seen has been outside of functions. To test your code more thoroughly, we require that you put each layer in a function.  This allows us to give you better feedback and test for simple mistakes using our unittests before you submit your project.\n",
    "\n",
    ">**Note:** If you're finding it hard to dedicate enough time for this course each week, we've provided a small shortcut to this part of the project. In the next couple of problems, you'll have the option to use classes from the [TensorFlow Layers](https://www.tensorflow.org/api_docs/python/tf/layers) or [TensorFlow Layers (contrib)](https://www.tensorflow.org/api_guides/python/contrib.layers) packages to build each layer, except the layers you build in the \"Convolutional and Max Pooling Layer\" section.  TF Layers is similar to Keras's and TFLearn's abstraction to layers, so it's easy to pickup.\n",
    "\n",
    ">However, if you would like to get the most out of this course, try to solve all the problems _without_ using anything from the TF Layers packages. You **can** still use classes from other packages that happen to have the same name as ones you find in TF Layers! For example, instead of using the TF Layers version of the `conv2d` class, [tf.layers.conv2d](https://www.tensorflow.org/api_docs/python/tf/layers/conv2d), you would want to use the TF Neural Network version of `conv2d`, [tf.nn.conv2d](https://www.tensorflow.org/api_docs/python/tf/nn/conv2d). \n",
    "\n",
    "Let's begin!\n",
    "\n",
    "### Input\n",
    "The neural network needs to read the image data, one-hot encoded labels, and dropout keep probability. Implement the following functions\n",
    "* Implement `neural_net_image_input`\n",
    " * Return a [TF Placeholder](https://www.tensorflow.org/api_docs/python/tf/placeholder)\n",
    " * Set the shape using `image_shape` with batch size set to `None`.\n",
    " * Name the TensorFlow placeholder \"x\" using the TensorFlow `name` parameter in the [TF Placeholder](https://www.tensorflow.org/api_docs/python/tf/placeholder).\n",
    "* Implement `neural_net_label_input`\n",
    " * Return a [TF Placeholder](https://www.tensorflow.org/api_docs/python/tf/placeholder)\n",
    " * Set the shape using `n_classes` with batch size set to `None`.\n",
    " * Name the TensorFlow placeholder \"y\" using the TensorFlow `name` parameter in the [TF Placeholder](https://www.tensorflow.org/api_docs/python/tf/placeholder).\n",
    "* Implement `neural_net_keep_prob_input`\n",
    " * Return a [TF Placeholder](https://www.tensorflow.org/api_docs/python/tf/placeholder) for dropout keep probability.\n",
    " * Name the TensorFlow placeholder \"keep_prob\" using the TensorFlow `name` parameter in the [TF Placeholder](https://www.tensorflow.org/api_docs/python/tf/placeholder).\n",
    "\n",
    "These names will be used at the end of the project to load your saved model.\n",
    "\n",
    "Note: `None` for shapes in TensorFlow allow for a dynamic size."
   ]
  },
  {
   "cell_type": "code",
   "execution_count": 7,
   "metadata": {
    "collapsed": false,
    "deletable": true,
    "editable": true
   },
   "outputs": [
    {
     "name": "stdout",
     "output_type": "stream",
     "text": [
      "Image Input Tests Passed.\n",
      "Label Input Tests Passed.\n",
      "Keep Prob Tests Passed.\n"
     ]
    }
   ],
   "source": [
    "import tensorflow as tf\n",
    "\n",
    "def neural_net_image_input(image_shape):\n",
    "    \"\"\"\n",
    "    Return a Tensor for a batch of image input\n",
    "    : image_shape: Shape of the images\n",
    "    : return: Tensor for image input.\n",
    "    \"\"\"\n",
    "    # TODO: Implement Function\n",
    "    # placeholder for input x, with image shape, type is float32\n",
    "    return tf.placeholder(tf.float32, shape=(None,) + image_shape, name='x')\n",
    "\n",
    "\n",
    "def neural_net_label_input(n_classes):\n",
    "    \"\"\"\n",
    "    Return a Tensor for a batch of label input\n",
    "    : n_classes: Number of classes\n",
    "    : return: Tensor for label input.\n",
    "    \"\"\"\n",
    "    # TODO: Implement Function\n",
    "    return tf.placeholder(tf.float32, shape=(None, n_classes), name='y')\n",
    "\n",
    "\n",
    "def neural_net_keep_prob_input():\n",
    "    \"\"\"\n",
    "    Return a Tensor for keep probability\n",
    "    : return: Tensor for keep probability.\n",
    "    \"\"\"\n",
    "    # TODO: Implement Function\n",
    "    return tf.placeholder(tf.float32, name='keep_prob')\n",
    "\n",
    "\n",
    "\"\"\"\n",
    "DON'T MODIFY ANYTHING IN THIS CELL THAT IS BELOW THIS LINE\n",
    "\"\"\"\n",
    "tf.reset_default_graph()\n",
    "tests.test_nn_image_inputs(neural_net_image_input)\n",
    "tests.test_nn_label_inputs(neural_net_label_input)\n",
    "tests.test_nn_keep_prob_inputs(neural_net_keep_prob_input)"
   ]
  },
  {
   "cell_type": "markdown",
   "metadata": {
    "deletable": true,
    "editable": true
   },
   "source": [
    "### Convolution and Max Pooling Layer\n",
    "Convolution layers have a lot of success with images. For this code cell, you should implement the function `conv2d_maxpool` to apply convolution then max pooling:\n",
    "* Create the weight and bias using `conv_ksize`, `conv_num_outputs` and the shape of `x_tensor`.\n",
    "* Apply a convolution to `x_tensor` using weight and `conv_strides`.\n",
    " * We recommend you use same padding, but you're welcome to use any padding.\n",
    "* Add bias\n",
    "* Add a nonlinear activation to the convolution.\n",
    "* Apply Max Pooling using `pool_ksize` and `pool_strides`.\n",
    " * We recommend you use same padding, but you're welcome to use any padding.\n",
    "\n",
    "**Note:** You **can't** use [TensorFlow Layers](https://www.tensorflow.org/api_docs/python/tf/layers) or [TensorFlow Layers (contrib)](https://www.tensorflow.org/api_guides/python/contrib.layers) for **this** layer, but you can still use TensorFlow's [Neural Network](https://www.tensorflow.org/api_docs/python/tf/nn) package. You may still use the shortcut option for all the **other** layers."
   ]
  },
  {
   "cell_type": "code",
   "execution_count": 8,
   "metadata": {
    "collapsed": false,
    "deletable": true,
    "editable": true
   },
   "outputs": [
    {
     "name": "stdout",
     "output_type": "stream",
     "text": [
      "Tests Passed\n"
     ]
    }
   ],
   "source": [
    "def conv2d_maxpool(x_tensor, conv_num_outputs, conv_ksize, conv_strides, pool_ksize, pool_strides):\n",
    "    \"\"\"\n",
    "    Apply convolution then max pooling to x_tensor\n",
    "    :param x_tensor: TensorFlow Tensor\n",
    "    :param conv_num_outputs: Number of outputs for the convolutional layer\n",
    "    :param conv_ksize: kernal size 2-D Tuple for the convolutional layer\n",
    "    :param conv_strides: Stride 2-D Tuple for convolution\n",
    "    :param pool_ksize: kernal size 2-D Tuple for pool\n",
    "    :param pool_strides: Stride 2-D Tuple for pool\n",
    "    : return: A tensor that represents convolution and max pooling of x_tensor\n",
    "    \"\"\"\n",
    "    # TODO: Implement Function\n",
    "    #0 Calculate shape of filter\n",
    "    \n",
    "    #print(x_tensor.get_shape()[3]) # ?, 32, 32, 5\n",
    "    #print(conv_num_outputs) # 10\n",
    "    #print(conv_ksize) # 2, 2\n",
    "    #print(conv_strides) # 4, 4\n",
    "    #print(pool_ksize) # 2, 2\n",
    "    #print(pool_strides) # 2,2\n",
    "    \n",
    "    # filter : hight , width, depth_in, depth_out\n",
    "    w_shape   = conv_ksize + (x_tensor.get_shape().as_list()[3],) + (conv_num_outputs,)\n",
    "    \n",
    "    c_strides = (1,) + conv_strides + (1,)\n",
    "    p_ksize   = (1,) + pool_ksize   + (1,)\n",
    "    p_strides = (1,) + pool_strides + (1,)\n",
    "    \n",
    "    #1 Create weights for convolutional layer\n",
    "    weight = tf.Variable(tf.truncated_normal(\n",
    "        shape= w_shape,\n",
    "        mean = 0.0,\n",
    "        stddev = 0.1,\n",
    "        dtype = tf.float32\n",
    "    ))\n",
    "    #2 Create bias for convolutinal layer, depth = conv_num_outputs\n",
    "    bias = tf.Variable(tf.zeros(conv_num_outputs))\n",
    "    \n",
    "    #3 build the convolutinal layer\n",
    "    conv2d = tf.nn.conv2d(x_tensor, filter=weight, strides=c_strides, padding='SAME')\n",
    "    conv2d = tf.nn.bias_add(conv2d, bias)\n",
    "    conv2d = tf.nn.relu(conv2d)\n",
    "    \n",
    "    #4 build the max_pool layer\n",
    "    max_pool = tf.nn.max_pool(conv2d, ksize=p_ksize, strides=p_strides, padding='SAME')\n",
    "    \n",
    "    return max_pool\n",
    "\n",
    "\n",
    "\"\"\"\n",
    "DON'T MODIFY ANYTHING IN THIS CELL THAT IS BELOW THIS LINE\n",
    "\"\"\"\n",
    "tests.test_con_pool(conv2d_maxpool)"
   ]
  },
  {
   "cell_type": "markdown",
   "metadata": {
    "deletable": true,
    "editable": true
   },
   "source": [
    "### Flatten Layer\n",
    "Implement the `flatten` function to change the dimension of `x_tensor` from a 4-D tensor to a 2-D tensor.  The output should be the shape (*Batch Size*, *Flattened Image Size*). Shortcut option: you can use classes from the [TensorFlow Layers](https://www.tensorflow.org/api_docs/python/tf/layers) or [TensorFlow Layers (contrib)](https://www.tensorflow.org/api_guides/python/contrib.layers) packages for this layer. For more of a challenge, only use other TensorFlow packages."
   ]
  },
  {
   "cell_type": "code",
   "execution_count": 9,
   "metadata": {
    "collapsed": false,
    "deletable": true,
    "editable": true
   },
   "outputs": [
    {
     "name": "stdout",
     "output_type": "stream",
     "text": [
      "Tests Passed\n"
     ]
    }
   ],
   "source": [
    "def flatten(x_tensor):\n",
    "    \"\"\"\n",
    "    Flatten x_tensor to (Batch Size, Flattened Image Size)\n",
    "    : x_tensor: A tensor of size (Batch Size, ...), where ... are the image dimensions.\n",
    "    : return: A tensor of size (Batch Size, Flattened Image Size).\n",
    "    \"\"\"\n",
    "    # TODO: Implement Function\n",
    "    return tf.contrib.layers.flatten(x_tensor)\n",
    "\n",
    "\n",
    "\"\"\"\n",
    "DON'T MODIFY ANYTHING IN THIS CELL THAT IS BELOW THIS LINE\n",
    "\"\"\"\n",
    "tests.test_flatten(flatten)"
   ]
  },
  {
   "cell_type": "markdown",
   "metadata": {
    "deletable": true,
    "editable": true
   },
   "source": [
    "### Fully-Connected Layer\n",
    "Implement the `fully_conn` function to apply a fully connected layer to `x_tensor` with the shape (*Batch Size*, *num_outputs*). Shortcut option: you can use classes from the [TensorFlow Layers](https://www.tensorflow.org/api_docs/python/tf/layers) or [TensorFlow Layers (contrib)](https://www.tensorflow.org/api_guides/python/contrib.layers) packages for this layer. For more of a challenge, only use other TensorFlow packages."
   ]
  },
  {
   "cell_type": "code",
   "execution_count": 10,
   "metadata": {
    "collapsed": false,
    "deletable": true,
    "editable": true
   },
   "outputs": [
    {
     "name": "stdout",
     "output_type": "stream",
     "text": [
      "Tests Passed\n"
     ]
    }
   ],
   "source": [
    "def fully_conn(x_tensor, num_outputs):\n",
    "    \"\"\"\n",
    "    Apply a fully connected layer to x_tensor using weight and bias\n",
    "    : x_tensor: A 2-D tensor where the first dimension is batch size.\n",
    "    : num_outputs: The number of output that the new tensor should be.\n",
    "    : return: A 2-D tensor where the second dimension is num_outputs.\n",
    "    \"\"\"\n",
    "    # TODO: Implement Function\n",
    "    # activation function set to relu\n",
    "    return tf.layers.dense(\n",
    "      inputs=x_tensor,\n",
    "      units=num_outputs,\n",
    "      activation=tf.nn.relu)\n",
    "\n",
    "\n",
    "\"\"\"\n",
    "DON'T MODIFY ANYTHING IN THIS CELL THAT IS BELOW THIS LINE\n",
    "\"\"\"\n",
    "tests.test_fully_conn(fully_conn)"
   ]
  },
  {
   "cell_type": "markdown",
   "metadata": {
    "deletable": true,
    "editable": true
   },
   "source": [
    "### Output Layer\n",
    "Implement the `output` function to apply a fully connected layer to `x_tensor` with the shape (*Batch Size*, *num_outputs*). Shortcut option: you can use classes from the [TensorFlow Layers](https://www.tensorflow.org/api_docs/python/tf/layers) or [TensorFlow Layers (contrib)](https://www.tensorflow.org/api_guides/python/contrib.layers) packages for this layer. For more of a challenge, only use other TensorFlow packages.\n",
    "\n",
    "**Note:** Activation, softmax, or cross entropy should **not** be applied to this."
   ]
  },
  {
   "cell_type": "code",
   "execution_count": 11,
   "metadata": {
    "collapsed": false,
    "deletable": true,
    "editable": true
   },
   "outputs": [
    {
     "name": "stdout",
     "output_type": "stream",
     "text": [
      "Tests Passed\n"
     ]
    }
   ],
   "source": [
    "def output(x_tensor, num_outputs):\n",
    "    \"\"\"\n",
    "    Apply a output layer to x_tensor using weight and bias\n",
    "    : x_tensor: A 2-D tensor where the first dimension is batch size.\n",
    "    : num_outputs: The number of output that the new tensor should be.\n",
    "    : return: A 2-D tensor where the second dimension is num_outputs.\n",
    "    \"\"\"\n",
    "    # TODO: Implement Function\n",
    "    return tf.layers.dense(\n",
    "      inputs=x_tensor,\n",
    "      units=num_outputs)\n",
    "\n",
    "\n",
    "\"\"\"\n",
    "DON'T MODIFY ANYTHING IN THIS CELL THAT IS BELOW THIS LINE\n",
    "\"\"\"\n",
    "tests.test_output(output)"
   ]
  },
  {
   "cell_type": "markdown",
   "metadata": {
    "deletable": true,
    "editable": true
   },
   "source": [
    "### Create Convolutional Model\n",
    "Implement the function `conv_net` to create a convolutional neural network model. The function takes in a batch of images, `x`, and outputs logits.  Use the layers you created above to create this model:\n",
    "\n",
    "* Apply 1, 2, or 3 Convolution and Max Pool layers\n",
    "* Apply a Flatten Layer\n",
    "* Apply 1, 2, or 3 Fully Connected Layers\n",
    "* Apply an Output Layer\n",
    "* Return the output\n",
    "* Apply [TensorFlow's Dropout](https://www.tensorflow.org/api_docs/python/tf/nn/dropout) to one or more layers in the model using `keep_prob`. "
   ]
  },
  {
   "cell_type": "code",
   "execution_count": 12,
   "metadata": {
    "collapsed": false,
    "deletable": true,
    "editable": true
   },
   "outputs": [
    {
     "name": "stdout",
     "output_type": "stream",
     "text": [
      "Neural Network Built!\n"
     ]
    }
   ],
   "source": [
    "def conv_net(x, keep_prob):\n",
    "    \"\"\"\n",
    "    Create a convolutional neural network model\n",
    "    : x: Placeholder tensor that holds image data.\n",
    "    : keep_prob: Placeholder tensor that hold dropout keep probability.\n",
    "    : return: Tensor that represents logits\n",
    "    \"\"\"\n",
    "    # TODO: Apply 1, 2, or 3 Convolution and Max Pool layers\n",
    "    #    Play around with different number of outputs, kernel size and stride\n",
    "    # Function Definition from Above:\n",
    "    #    conv2d_maxpool(x_tensor, conv_num_outputs, conv_ksize, conv_strides, pool_ksize, pool_strides)\n",
    "    conv2d = conv2d_maxpool(x, 10, (2,2), (2,2), (2,2), (2,2))\n",
    "    conv2d = conv2d_maxpool(x, 20, (2,2), (2,2), (2,2), (2,2))\n",
    "    conv2d = conv2d_maxpool(x, 40, (2,2), (2,2), (2,2), (2,2))\n",
    "    \n",
    "    # TODO: Apply a Flatten Layer\n",
    "    # Function Definition from Above:\n",
    "    #   flatten(x_tensor)\n",
    "    flat = flatten(conv2d)\n",
    "\n",
    "    # TODO: Apply 1, 2, or 3 Fully Connected Layers\n",
    "    #    Play around with different number of outputs\n",
    "    # Function Definition from Above:\n",
    "    #   fully_conn(x_tensor, num_outputs)\n",
    "    full_con = fully_conn(flat, 80)\n",
    "    full_con = tf.nn.dropout(full_con, keep_prob)\n",
    "    full_con = fully_conn(full_con, 40)\n",
    "    full_con = tf.nn.dropout(full_con, keep_prob)\n",
    "    full_con = fully_conn(full_con, 20)\n",
    "    \n",
    "    \n",
    "    # TODO: Apply an Output Layer\n",
    "    #    Set this to the number of classes\n",
    "    # Function Definition from Above:\n",
    "    #   output(x_tensor, num_outputs)\n",
    "    logits = output(full_con, 10)\n",
    "    \n",
    "    # TODO: return output\n",
    "    return logits\n",
    "\n",
    "\n",
    "\"\"\"\n",
    "DON'T MODIFY ANYTHING IN THIS CELL THAT IS BELOW THIS LINE\n",
    "\"\"\"\n",
    "\n",
    "##############################\n",
    "## Build the Neural Network ##\n",
    "##############################\n",
    "\n",
    "# Remove previous weights, bias, inputs, etc..\n",
    "tf.reset_default_graph()\n",
    "\n",
    "# Inputs\n",
    "x = neural_net_image_input((32, 32, 3))\n",
    "y = neural_net_label_input(10)\n",
    "keep_prob = neural_net_keep_prob_input()\n",
    "\n",
    "# Model\n",
    "logits = conv_net(x, keep_prob)\n",
    "\n",
    "# Name logits Tensor, so that is can be loaded from disk after training\n",
    "logits = tf.identity(logits, name='logits')\n",
    "\n",
    "# Loss and Optimizer\n",
    "cost = tf.reduce_mean(tf.nn.softmax_cross_entropy_with_logits(logits=logits, labels=y))\n",
    "optimizer = tf.train.AdamOptimizer().minimize(cost)\n",
    "\n",
    "# Accuracy\n",
    "correct_pred = tf.equal(tf.argmax(logits, 1), tf.argmax(y, 1))\n",
    "accuracy = tf.reduce_mean(tf.cast(correct_pred, tf.float32), name='accuracy')\n",
    "\n",
    "tests.test_conv_net(conv_net)"
   ]
  },
  {
   "cell_type": "markdown",
   "metadata": {
    "deletable": true,
    "editable": true
   },
   "source": [
    "## Train the Neural Network\n",
    "### Single Optimization\n",
    "Implement the function `train_neural_network` to do a single optimization.  The optimization should use `optimizer` to optimize in `session` with a `feed_dict` of the following:\n",
    "* `x` for image input\n",
    "* `y` for labels\n",
    "* `keep_prob` for keep probability for dropout\n",
    "\n",
    "This function will be called for each batch, so `tf.global_variables_initializer()` has already been called.\n",
    "\n",
    "Note: Nothing needs to be returned. This function is only optimizing the neural network."
   ]
  },
  {
   "cell_type": "code",
   "execution_count": 13,
   "metadata": {
    "collapsed": false,
    "deletable": true,
    "editable": true
   },
   "outputs": [
    {
     "name": "stdout",
     "output_type": "stream",
     "text": [
      "Tests Passed\n"
     ]
    }
   ],
   "source": [
    "def train_neural_network(session, optimizer, keep_probability, feature_batch, label_batch):\n",
    "    \"\"\"\n",
    "    Optimize the session on a batch of images and labels\n",
    "    : session: Current TensorFlow session\n",
    "    : optimizer: TensorFlow optimizer function\n",
    "    : keep_probability: keep probability\n",
    "    : feature_batch: Batch of Numpy image data\n",
    "    : label_batch: Batch of Numpy label data\n",
    "    \"\"\"\n",
    "    # TODO: Implement Function\n",
    "    session.run(optimizer, feed_dict = {keep_prob:keep_probability, x:feature_batch, y:label_batch})\n",
    "    pass\n",
    "\n",
    "\n",
    "\"\"\"\n",
    "DON'T MODIFY ANYTHING IN THIS CELL THAT IS BELOW THIS LINE\n",
    "\"\"\"\n",
    "tests.test_train_nn(train_neural_network)"
   ]
  },
  {
   "cell_type": "markdown",
   "metadata": {
    "deletable": true,
    "editable": true
   },
   "source": [
    "### Show Stats\n",
    "Implement the function `print_stats` to print loss and validation accuracy.  Use the global variables `valid_features` and `valid_labels` to calculate validation accuracy.  Use a keep probability of `1.0` to calculate the loss and validation accuracy."
   ]
  },
  {
   "cell_type": "code",
   "execution_count": 14,
   "metadata": {
    "collapsed": false,
    "deletable": true,
    "editable": true
   },
   "outputs": [],
   "source": [
    "def print_stats(session, feature_batch, label_batch, cost, accuracy):\n",
    "    \"\"\"\n",
    "    Print information about loss and validation accuracy\n",
    "    : session: Current TensorFlow session\n",
    "    : feature_batch: Batch of Numpy image data\n",
    "    : label_batch: Batch of Numpy label data\n",
    "    : cost: TensorFlow cost function\n",
    "    : accuracy: TensorFlow accuracy function\n",
    "    \"\"\"\n",
    "    # TODO: Implement Function\n",
    "    cost     = session.run(cost,     feed_dict = {x:feature_batch,  y:label_batch,  keep_prob:1.0})\n",
    "    accuracy = session.run(accuracy, feed_dict = {x:valid_features, y:valid_labels, keep_prob:1.0})\n",
    "    print(\"loss:{} accuracy: {}\".format(cost, accuracy))\n",
    "    pass"
   ]
  },
  {
   "cell_type": "markdown",
   "metadata": {
    "deletable": true,
    "editable": true
   },
   "source": [
    "### Hyperparameters\n",
    "Tune the following parameters:\n",
    "* Set `epochs` to the number of iterations until the network stops learning or start overfitting\n",
    "* Set `batch_size` to the highest number that your machine has memory for.  Most people set them to common sizes of memory:\n",
    " * 64\n",
    " * 128\n",
    " * 256\n",
    " * ...\n",
    "* Set `keep_probability` to the probability of keeping a node using dropout"
   ]
  },
  {
   "cell_type": "code",
   "execution_count": 15,
   "metadata": {
    "collapsed": true,
    "deletable": true,
    "editable": true
   },
   "outputs": [],
   "source": [
    "# TODO: Tune Parameters\n",
    "epochs = 25\n",
    "batch_size = 256\n",
    "keep_probability = 0.8"
   ]
  },
  {
   "cell_type": "markdown",
   "metadata": {
    "deletable": true,
    "editable": true
   },
   "source": [
    "### Train on a Single CIFAR-10 Batch\n",
    "Instead of training the neural network on all the CIFAR-10 batches of data, let's use a single batch. This should save time while you iterate on the model to get a better accuracy.  Once the final validation accuracy is 50% or greater, run the model on all the data in the next section."
   ]
  },
  {
   "cell_type": "code",
   "execution_count": 16,
   "metadata": {
    "collapsed": false,
    "deletable": true,
    "editable": true
   },
   "outputs": [
    {
     "name": "stdout",
     "output_type": "stream",
     "text": [
      "Checking the Training on a Single Batch...\n",
      "Epoch  1, CIFAR-10 Batch 1:  loss:2.2284412384033203 accuracy: 0.22859999537467957\n",
      "Epoch  2, CIFAR-10 Batch 1:  loss:2.1809260845184326 accuracy: 0.27480000257492065\n",
      "Epoch  3, CIFAR-10 Batch 1:  loss:2.0693750381469727 accuracy: 0.3255999982357025\n",
      "Epoch  4, CIFAR-10 Batch 1:  loss:1.9896663427352905 accuracy: 0.35120001435279846\n",
      "Epoch  5, CIFAR-10 Batch 1:  loss:1.9428495168685913 accuracy: 0.36480000615119934\n",
      "Epoch  6, CIFAR-10 Batch 1:  loss:1.8331352472305298 accuracy: 0.3953999876976013\n",
      "Epoch  7, CIFAR-10 Batch 1:  loss:1.7123295068740845 accuracy: 0.42399999499320984\n",
      "Epoch  8, CIFAR-10 Batch 1:  loss:1.6021716594696045 accuracy: 0.4302000105381012\n",
      "Epoch  9, CIFAR-10 Batch 1:  loss:1.5026596784591675 accuracy: 0.44020000100135803\n",
      "Epoch 10, CIFAR-10 Batch 1:  loss:1.405641794204712 accuracy: 0.4528000056743622\n",
      "Epoch 11, CIFAR-10 Batch 1:  loss:1.3106727600097656 accuracy: 0.4699999988079071\n",
      "Epoch 12, CIFAR-10 Batch 1:  loss:1.2172752618789673 accuracy: 0.477400004863739\n",
      "Epoch 13, CIFAR-10 Batch 1:  loss:1.1177387237548828 accuracy: 0.48399999737739563\n",
      "Epoch 14, CIFAR-10 Batch 1:  loss:1.0692039728164673 accuracy: 0.49239999055862427\n",
      "Epoch 15, CIFAR-10 Batch 1:  loss:1.0007250308990479 accuracy: 0.4925999939441681\n",
      "Epoch 16, CIFAR-10 Batch 1:  loss:0.9462833404541016 accuracy: 0.49540001153945923\n",
      "Epoch 17, CIFAR-10 Batch 1:  loss:0.9133133888244629 accuracy: 0.5040000081062317\n",
      "Epoch 18, CIFAR-10 Batch 1:  loss:0.8564197421073914 accuracy: 0.5090000033378601\n",
      "Epoch 19, CIFAR-10 Batch 1:  loss:0.8072412610054016 accuracy: 0.5174000263214111\n",
      "Epoch 20, CIFAR-10 Batch 1:  loss:0.7783972024917603 accuracy: 0.5157999992370605\n",
      "Epoch 21, CIFAR-10 Batch 1:  loss:0.7703548669815063 accuracy: 0.5185999870300293\n",
      "Epoch 22, CIFAR-10 Batch 1:  loss:0.7465258836746216 accuracy: 0.5099999904632568\n",
      "Epoch 23, CIFAR-10 Batch 1:  loss:0.6971127390861511 accuracy: 0.5230000019073486\n",
      "Epoch 24, CIFAR-10 Batch 1:  loss:0.6710479855537415 accuracy: 0.5297999978065491\n",
      "Epoch 25, CIFAR-10 Batch 1:  loss:0.6466487646102905 accuracy: 0.5260000228881836\n"
     ]
    }
   ],
   "source": [
    "\"\"\"\n",
    "DON'T MODIFY ANYTHING IN THIS CELL\n",
    "\"\"\"\n",
    "print('Checking the Training on a Single Batch...')\n",
    "with tf.Session() as sess:\n",
    "    # Initializing the variables\n",
    "    sess.run(tf.global_variables_initializer())\n",
    "    \n",
    "    # Training cycle\n",
    "    for epoch in range(epochs):\n",
    "        batch_i = 1\n",
    "        for batch_features, batch_labels in helper.load_preprocess_training_batch(batch_i, batch_size):\n",
    "            train_neural_network(sess, optimizer, keep_probability, batch_features, batch_labels)\n",
    "        print('Epoch {:>2}, CIFAR-10 Batch {}:  '.format(epoch + 1, batch_i), end='')\n",
    "        print_stats(sess, batch_features, batch_labels, cost, accuracy)"
   ]
  },
  {
   "cell_type": "markdown",
   "metadata": {
    "deletable": true,
    "editable": true
   },
   "source": [
    "### Fully Train the Model\n",
    "Now that you got a good accuracy with a single CIFAR-10 batch, try it with all five batches."
   ]
  },
  {
   "cell_type": "code",
   "execution_count": 17,
   "metadata": {
    "collapsed": false,
    "deletable": true,
    "editable": true
   },
   "outputs": [
    {
     "name": "stdout",
     "output_type": "stream",
     "text": [
      "Training...\n",
      "Epoch  1, CIFAR-10 Batch 1:  loss:2.2666332721710205 accuracy: 0.20999999344348907\n",
      "Epoch  1, CIFAR-10 Batch 2:  loss:2.020059108734131 accuracy: 0.2542000114917755\n",
      "Epoch  1, CIFAR-10 Batch 3:  loss:1.72076416015625 accuracy: 0.2791999876499176\n",
      "Epoch  1, CIFAR-10 Batch 4:  loss:1.802034616470337 accuracy: 0.3075999915599823\n",
      "Epoch  1, CIFAR-10 Batch 5:  loss:1.731798529624939 accuracy: 0.3619999885559082\n",
      "Epoch  2, CIFAR-10 Batch 1:  loss:1.8863766193389893 accuracy: 0.38499999046325684\n",
      "Epoch  2, CIFAR-10 Batch 2:  loss:1.6376276016235352 accuracy: 0.4083999991416931\n",
      "Epoch  2, CIFAR-10 Batch 3:  loss:1.4022626876831055 accuracy: 0.41359999775886536\n",
      "Epoch  2, CIFAR-10 Batch 4:  loss:1.5613235235214233 accuracy: 0.4300000071525574\n",
      "Epoch  2, CIFAR-10 Batch 5:  loss:1.5037250518798828 accuracy: 0.45339998602867126\n",
      "Epoch  3, CIFAR-10 Batch 1:  loss:1.5810195207595825 accuracy: 0.4717999994754791\n",
      "Epoch  3, CIFAR-10 Batch 2:  loss:1.3472859859466553 accuracy: 0.4828000068664551\n",
      "Epoch  3, CIFAR-10 Batch 3:  loss:1.2405192852020264 accuracy: 0.48420000076293945\n",
      "Epoch  3, CIFAR-10 Batch 4:  loss:1.3637803792953491 accuracy: 0.4936000108718872\n",
      "Epoch  3, CIFAR-10 Batch 5:  loss:1.3429055213928223 accuracy: 0.4867999851703644\n",
      "Epoch  4, CIFAR-10 Batch 1:  loss:1.3804305791854858 accuracy: 0.5099999904632568\n",
      "Epoch  4, CIFAR-10 Batch 2:  loss:1.1791013479232788 accuracy: 0.5041999816894531\n",
      "Epoch  4, CIFAR-10 Batch 3:  loss:1.0920348167419434 accuracy: 0.5192000269889832\n",
      "Epoch  4, CIFAR-10 Batch 4:  loss:1.2466824054718018 accuracy: 0.5239999890327454\n",
      "Epoch  4, CIFAR-10 Batch 5:  loss:1.178743839263916 accuracy: 0.5249999761581421\n",
      "Epoch  5, CIFAR-10 Batch 1:  loss:1.257552981376648 accuracy: 0.5260000228881836\n",
      "Epoch  5, CIFAR-10 Batch 2:  loss:1.0542657375335693 accuracy: 0.5342000126838684\n",
      "Epoch  5, CIFAR-10 Batch 3:  loss:0.9792754054069519 accuracy: 0.5320000052452087\n",
      "Epoch  5, CIFAR-10 Batch 4:  loss:1.1594079732894897 accuracy: 0.5407999753952026\n",
      "Epoch  5, CIFAR-10 Batch 5:  loss:1.0751402378082275 accuracy: 0.548799991607666\n",
      "Epoch  6, CIFAR-10 Batch 1:  loss:1.174359679222107 accuracy: 0.5454000234603882\n",
      "Epoch  6, CIFAR-10 Batch 2:  loss:0.9664382934570312 accuracy: 0.5437999963760376\n",
      "Epoch  6, CIFAR-10 Batch 3:  loss:0.9017215967178345 accuracy: 0.5454000234603882\n",
      "Epoch  6, CIFAR-10 Batch 4:  loss:1.0750945806503296 accuracy: 0.5527999997138977\n",
      "Epoch  6, CIFAR-10 Batch 5:  loss:0.9760982394218445 accuracy: 0.553600013256073\n",
      "Epoch  7, CIFAR-10 Batch 1:  loss:1.0371735095977783 accuracy: 0.5622000098228455\n",
      "Epoch  7, CIFAR-10 Batch 2:  loss:0.867837131023407 accuracy: 0.5600000023841858\n",
      "Epoch  7, CIFAR-10 Batch 3:  loss:0.8550662994384766 accuracy: 0.5526000261306763\n",
      "Epoch  7, CIFAR-10 Batch 4:  loss:0.9985464215278625 accuracy: 0.5659999847412109\n",
      "Epoch  7, CIFAR-10 Batch 5:  loss:0.9132264852523804 accuracy: 0.5654000043869019\n",
      "Epoch  8, CIFAR-10 Batch 1:  loss:0.9572829008102417 accuracy: 0.5730000138282776\n",
      "Epoch  8, CIFAR-10 Batch 2:  loss:0.8006048202514648 accuracy: 0.5609999895095825\n",
      "Epoch  8, CIFAR-10 Batch 3:  loss:0.754754900932312 accuracy: 0.5712000131607056\n",
      "Epoch  8, CIFAR-10 Batch 4:  loss:0.9346165657043457 accuracy: 0.579800009727478\n",
      "Epoch  8, CIFAR-10 Batch 5:  loss:0.8033944368362427 accuracy: 0.5763999819755554\n",
      "Epoch  9, CIFAR-10 Batch 1:  loss:0.8813192248344421 accuracy: 0.5827999711036682\n",
      "Epoch  9, CIFAR-10 Batch 2:  loss:0.7167242169380188 accuracy: 0.5582000017166138\n",
      "Epoch  9, CIFAR-10 Batch 3:  loss:0.7413448691368103 accuracy: 0.5767999887466431\n",
      "Epoch  9, CIFAR-10 Batch 4:  loss:0.8507436513900757 accuracy: 0.5794000029563904\n",
      "Epoch  9, CIFAR-10 Batch 5:  loss:0.736598551273346 accuracy: 0.5849999785423279\n",
      "Epoch 10, CIFAR-10 Batch 1:  loss:0.8409179449081421 accuracy: 0.5907999873161316\n",
      "Epoch 10, CIFAR-10 Batch 2:  loss:0.6295580863952637 accuracy: 0.5694000124931335\n",
      "Epoch 10, CIFAR-10 Batch 3:  loss:0.6852647066116333 accuracy: 0.5893999934196472\n",
      "Epoch 10, CIFAR-10 Batch 4:  loss:0.7781414985656738 accuracy: 0.5884000062942505\n",
      "Epoch 10, CIFAR-10 Batch 5:  loss:0.7100395560264587 accuracy: 0.5838000178337097\n",
      "Epoch 11, CIFAR-10 Batch 1:  loss:0.7462344765663147 accuracy: 0.598800003528595\n",
      "Epoch 11, CIFAR-10 Batch 2:  loss:0.5885156393051147 accuracy: 0.5774000287055969\n",
      "Epoch 11, CIFAR-10 Batch 3:  loss:0.6515231728553772 accuracy: 0.5946000218391418\n",
      "Epoch 11, CIFAR-10 Batch 4:  loss:0.7456820011138916 accuracy: 0.5971999764442444\n",
      "Epoch 11, CIFAR-10 Batch 5:  loss:0.6799208521842957 accuracy: 0.5857999920845032\n",
      "Epoch 12, CIFAR-10 Batch 1:  loss:0.6537371873855591 accuracy: 0.5953999757766724\n",
      "Epoch 12, CIFAR-10 Batch 2:  loss:0.5435411334037781 accuracy: 0.5888000130653381\n",
      "Epoch 12, CIFAR-10 Batch 3:  loss:0.5663326382637024 accuracy: 0.5952000021934509\n",
      "Epoch 12, CIFAR-10 Batch 4:  loss:0.6709010004997253 accuracy: 0.5989999771118164\n",
      "Epoch 12, CIFAR-10 Batch 5:  loss:0.6554700136184692 accuracy: 0.5866000056266785\n",
      "Epoch 13, CIFAR-10 Batch 1:  loss:0.6173365712165833 accuracy: 0.6010000109672546\n",
      "Epoch 13, CIFAR-10 Batch 2:  loss:0.5097812414169312 accuracy: 0.5853999853134155\n",
      "Epoch 13, CIFAR-10 Batch 3:  loss:0.5776827335357666 accuracy: 0.6019999980926514\n",
      "Epoch 13, CIFAR-10 Batch 4:  loss:0.6261550784111023 accuracy: 0.6003999710083008\n",
      "Epoch 13, CIFAR-10 Batch 5:  loss:0.6044286489486694 accuracy: 0.5902000069618225\n",
      "Epoch 14, CIFAR-10 Batch 1:  loss:0.5637000799179077 accuracy: 0.6029999852180481\n",
      "Epoch 14, CIFAR-10 Batch 2:  loss:0.4739963412284851 accuracy: 0.5935999751091003\n",
      "Epoch 14, CIFAR-10 Batch 3:  loss:0.5394363403320312 accuracy: 0.6029999852180481\n",
      "Epoch 14, CIFAR-10 Batch 4:  loss:0.5770370364189148 accuracy: 0.6100000143051147\n",
      "Epoch 14, CIFAR-10 Batch 5:  loss:0.5397199988365173 accuracy: 0.5974000096321106\n",
      "Epoch 15, CIFAR-10 Batch 1:  loss:0.5337251424789429 accuracy: 0.6082000136375427\n",
      "Epoch 15, CIFAR-10 Batch 2:  loss:0.4610978662967682 accuracy: 0.6039999723434448\n",
      "Epoch 15, CIFAR-10 Batch 3:  loss:0.5099568367004395 accuracy: 0.6075999736785889\n",
      "Epoch 15, CIFAR-10 Batch 4:  loss:0.5345386266708374 accuracy: 0.6092000007629395\n",
      "Epoch 15, CIFAR-10 Batch 5:  loss:0.5275553464889526 accuracy: 0.6019999980926514\n",
      "Epoch 16, CIFAR-10 Batch 1:  loss:0.5299769639968872 accuracy: 0.6097999811172485\n",
      "Epoch 16, CIFAR-10 Batch 2:  loss:0.4467476010322571 accuracy: 0.6000000238418579\n",
      "Epoch 16, CIFAR-10 Batch 3:  loss:0.4844929575920105 accuracy: 0.599399983882904\n",
      "Epoch 16, CIFAR-10 Batch 4:  loss:0.49456995725631714 accuracy: 0.6101999878883362\n",
      "Epoch 16, CIFAR-10 Batch 5:  loss:0.5390205383300781 accuracy: 0.597000002861023\n",
      "Epoch 17, CIFAR-10 Batch 1:  loss:0.5255953669548035 accuracy: 0.6110000014305115\n",
      "Epoch 17, CIFAR-10 Batch 2:  loss:0.4374140799045563 accuracy: 0.6118000149726868\n",
      "Epoch 17, CIFAR-10 Batch 3:  loss:0.44491419196128845 accuracy: 0.6018000245094299\n",
      "Epoch 17, CIFAR-10 Batch 4:  loss:0.45141586661338806 accuracy: 0.6075999736785889\n",
      "Epoch 17, CIFAR-10 Batch 5:  loss:0.4753653109073639 accuracy: 0.6118000149726868\n",
      "Epoch 18, CIFAR-10 Batch 1:  loss:0.4776531755924225 accuracy: 0.6075999736785889\n",
      "Epoch 18, CIFAR-10 Batch 2:  loss:0.4166099429130554 accuracy: 0.6043999791145325\n",
      "Epoch 18, CIFAR-10 Batch 3:  loss:0.408365398645401 accuracy: 0.6096000075340271\n",
      "Epoch 18, CIFAR-10 Batch 4:  loss:0.43203163146972656 accuracy: 0.614799976348877\n",
      "Epoch 18, CIFAR-10 Batch 5:  loss:0.46547308564186096 accuracy: 0.605400025844574\n",
      "Epoch 19, CIFAR-10 Batch 1:  loss:0.4586831033229828 accuracy: 0.6092000007629395\n",
      "Epoch 19, CIFAR-10 Batch 2:  loss:0.38580870628356934 accuracy: 0.6105999946594238\n",
      "Epoch 19, CIFAR-10 Batch 3:  loss:0.37753576040267944 accuracy: 0.6079999804496765\n",
      "Epoch 19, CIFAR-10 Batch 4:  loss:0.4003415107727051 accuracy: 0.6155999898910522\n",
      "Epoch 19, CIFAR-10 Batch 5:  loss:0.4419393539428711 accuracy: 0.6100000143051147\n",
      "Epoch 20, CIFAR-10 Batch 1:  loss:0.45497268438339233 accuracy: 0.6104000210762024\n",
      "Epoch 20, CIFAR-10 Batch 2:  loss:0.35497942566871643 accuracy: 0.6176000237464905\n",
      "Epoch 20, CIFAR-10 Batch 3:  loss:0.37670430541038513 accuracy: 0.6126000285148621\n",
      "Epoch 20, CIFAR-10 Batch 4:  loss:0.3736952245235443 accuracy: 0.6169999837875366\n",
      "Epoch 20, CIFAR-10 Batch 5:  loss:0.3994353413581848 accuracy: 0.6046000123023987\n",
      "Epoch 21, CIFAR-10 Batch 1:  loss:0.4319663941860199 accuracy: 0.6126000285148621\n",
      "Epoch 21, CIFAR-10 Batch 2:  loss:0.3723289668560028 accuracy: 0.6146000027656555\n",
      "Epoch 21, CIFAR-10 Batch 3:  loss:0.34222421050071716 accuracy: 0.6118000149726868\n",
      "Epoch 21, CIFAR-10 Batch 4:  loss:0.34442174434661865 accuracy: 0.614799976348877\n",
      "Epoch 21, CIFAR-10 Batch 5:  loss:0.4229968190193176 accuracy: 0.6069999933242798\n",
      "Epoch 22, CIFAR-10 Batch 1:  loss:0.4285789430141449 accuracy: 0.6083999872207642\n",
      "Epoch 22, CIFAR-10 Batch 2:  loss:0.32847070693969727 accuracy: 0.6140000224113464\n",
      "Epoch 22, CIFAR-10 Batch 3:  loss:0.35680657625198364 accuracy: 0.6132000088691711\n",
      "Epoch 22, CIFAR-10 Batch 4:  loss:0.3315211832523346 accuracy: 0.6140000224113464\n",
      "Epoch 22, CIFAR-10 Batch 5:  loss:0.3818751275539398 accuracy: 0.609000027179718\n",
      "Epoch 23, CIFAR-10 Batch 1:  loss:0.4255070090293884 accuracy: 0.607200026512146\n",
      "Epoch 23, CIFAR-10 Batch 2:  loss:0.39605554938316345 accuracy: 0.590399980545044\n",
      "Epoch 23, CIFAR-10 Batch 3:  loss:0.34180909395217896 accuracy: 0.6123999953269958\n",
      "Epoch 23, CIFAR-10 Batch 4:  loss:0.32269150018692017 accuracy: 0.6164000034332275\n",
      "Epoch 23, CIFAR-10 Batch 5:  loss:0.3540551960468292 accuracy: 0.6060000061988831\n",
      "Epoch 24, CIFAR-10 Batch 1:  loss:0.4132959246635437 accuracy: 0.6111999750137329\n",
      "Epoch 24, CIFAR-10 Batch 2:  loss:0.34994643926620483 accuracy: 0.6065999865531921\n",
      "Epoch 24, CIFAR-10 Batch 3:  loss:0.38294386863708496 accuracy: 0.6118000149726868\n",
      "Epoch 24, CIFAR-10 Batch 4:  loss:0.33319681882858276 accuracy: 0.6111999750137329\n",
      "Epoch 24, CIFAR-10 Batch 5:  loss:0.33067458868026733 accuracy: 0.6105999946594238\n",
      "Epoch 25, CIFAR-10 Batch 1:  loss:0.40284043550491333 accuracy: 0.6204000115394592\n",
      "Epoch 25, CIFAR-10 Batch 2:  loss:0.3399530351161957 accuracy: 0.6101999878883362\n",
      "Epoch 25, CIFAR-10 Batch 3:  loss:0.319941908121109 accuracy: 0.6164000034332275\n",
      "Epoch 25, CIFAR-10 Batch 4:  loss:0.2946647107601166 accuracy: 0.6173999905586243\n",
      "Epoch 25, CIFAR-10 Batch 5:  loss:0.3212762773036957 accuracy: 0.6074000000953674\n"
     ]
    }
   ],
   "source": [
    "\"\"\"\n",
    "DON'T MODIFY ANYTHING IN THIS CELL\n",
    "\"\"\"\n",
    "save_model_path = './image_classification'\n",
    "\n",
    "print('Training...')\n",
    "with tf.Session() as sess:\n",
    "    # Initializing the variables\n",
    "    sess.run(tf.global_variables_initializer())\n",
    "    \n",
    "    # Training cycle\n",
    "    for epoch in range(epochs):\n",
    "        # Loop over all batches\n",
    "        n_batches = 5\n",
    "        for batch_i in range(1, n_batches + 1):\n",
    "            for batch_features, batch_labels in helper.load_preprocess_training_batch(batch_i, batch_size):\n",
    "                train_neural_network(sess, optimizer, keep_probability, batch_features, batch_labels)\n",
    "            print('Epoch {:>2}, CIFAR-10 Batch {}:  '.format(epoch + 1, batch_i), end='')\n",
    "            print_stats(sess, batch_features, batch_labels, cost, accuracy)\n",
    "            \n",
    "    # Save Model\n",
    "    saver = tf.train.Saver()\n",
    "    save_path = saver.save(sess, save_model_path)"
   ]
  },
  {
   "cell_type": "markdown",
   "metadata": {
    "deletable": true,
    "editable": true
   },
   "source": [
    "# Checkpoint\n",
    "The model has been saved to disk.\n",
    "## Test Model\n",
    "Test your model against the test dataset.  This will be your final accuracy. You should have an accuracy greater than 50%. If you don't, keep tweaking the model architecture and parameters."
   ]
  },
  {
   "cell_type": "code",
   "execution_count": 18,
   "metadata": {
    "collapsed": false,
    "deletable": true,
    "editable": true
   },
   "outputs": [
    {
     "name": "stdout",
     "output_type": "stream",
     "text": [
      "INFO:tensorflow:Restoring parameters from ./image_classification\n",
      "Testing Accuracy: 0.6197265625\n",
      "\n"
     ]
    },
    {
     "data": {
      "image/png": "[encoded data removed]",
      "text/plain": [
       "<matplotlib.figure.Figure at 0x11eea6390>"
      ]
     },
     "metadata": {
      "image/png": {
       "height": 319,
       "width": 355
      }
     },
     "output_type": "display_data"
    }
   ],
   "source": [
    "\"\"\"\n",
    "DON'T MODIFY ANYTHING IN THIS CELL\n",
    "\"\"\"\n",
    "%matplotlib inline\n",
    "%config InlineBackend.figure_format = 'retina'\n",
    "\n",
    "import tensorflow as tf\n",
    "import pickle\n",
    "import helper\n",
    "import random\n",
    "\n",
    "# Set batch size if not already set\n",
    "try:\n",
    "    if batch_size:\n",
    "        pass\n",
    "except NameError:\n",
    "    batch_size = 64\n",
    "\n",
    "save_model_path = './image_classification'\n",
    "n_samples = 4\n",
    "top_n_predictions = 3\n",
    "\n",
    "def test_model():\n",
    "    \"\"\"\n",
    "    Test the saved model against the test dataset\n",
    "    \"\"\"\n",
    "\n",
    "    test_features, test_labels = pickle.load(open('preprocess_test.p', mode='rb'))\n",
    "    loaded_graph = tf.Graph()\n",
    "\n",
    "    with tf.Session(graph=loaded_graph) as sess:\n",
    "        # Load model\n",
    "        loader = tf.train.import_meta_graph(save_model_path + '.meta')\n",
    "        loader.restore(sess, save_model_path)\n",
    "\n",
    "        # Get Tensors from loaded model\n",
    "        loaded_x = loaded_graph.get_tensor_by_name('x:0')\n",
    "        loaded_y = loaded_graph.get_tensor_by_name('y:0')\n",
    "        loaded_keep_prob = loaded_graph.get_tensor_by_name('keep_prob:0')\n",
    "        loaded_logits = loaded_graph.get_tensor_by_name('logits:0')\n",
    "        loaded_acc = loaded_graph.get_tensor_by_name('accuracy:0')\n",
    "        \n",
    "        # Get accuracy in batches for memory limitations\n",
    "        test_batch_acc_total = 0\n",
    "        test_batch_count = 0\n",
    "        \n",
    "        for test_feature_batch, test_label_batch in helper.batch_features_labels(test_features, test_labels, batch_size):\n",
    "            test_batch_acc_total += sess.run(\n",
    "                loaded_acc,\n",
    "                feed_dict={loaded_x: test_feature_batch, loaded_y: test_label_batch, loaded_keep_prob: 1.0})\n",
    "            test_batch_count += 1\n",
    "\n",
    "        print('Testing Accuracy: {}\\n'.format(test_batch_acc_total/test_batch_count))\n",
    "\n",
    "        # Print Random Samples\n",
    "        random_test_features, random_test_labels = tuple(zip(*random.sample(list(zip(test_features, test_labels)), n_samples)))\n",
    "        random_test_predictions = sess.run(\n",
    "            tf.nn.top_k(tf.nn.softmax(loaded_logits), top_n_predictions),\n",
    "            feed_dict={loaded_x: random_test_features, loaded_y: random_test_labels, loaded_keep_prob: 1.0})\n",
    "        helper.display_image_predictions(random_test_features, random_test_labels, random_test_predictions)\n",
    "\n",
    "\n",
    "test_model()"
   ]
  },
  {
   "cell_type": "markdown",
   "metadata": {
    "deletable": true,
    "editable": true
   },
   "source": [
    "## Why 50-80% Accuracy?\n",
    "You might be wondering why you can't get an accuracy any higher. First things first, 50% isn't bad for a simple CNN.  Pure guessing would get you 10% accuracy. However, you might notice people are getting scores [well above 80%](http://rodrigob.github.io/are_we_there_yet/build/classification_datasets_results.html#43494641522d3130).  That's because we haven't taught you all there is to know about neural networks. We still need to cover a few more techniques.\n",
    "## Submitting This Project\n",
    "When submitting this project, make sure to run all the cells before saving the notebook.  Save the notebook file as \"dlnd_image_classification.ipynb\" and save it as a HTML file under \"File\" -> \"Download as\".  Include the \"helper.py\" and \"problem_unittests.py\" files in your submission."
   ]
  }
 ],
 "metadata": {
  "kernelspec": {
   "display_name": "Python 3",
   "language": "python",
   "name": "python3"
  },
  "language_info": {
   "codemirror_mode": {
    "name": "ipython",
    "version": 3
   },
   "file_extension": ".py",
   "mimetype": "text/x-python",
   "name": "python",
   "nbconvert_exporter": "python",
   "pygments_lexer": "ipython3",
   "version": "3.6.1"
  }
 },
 "nbformat": 4,
 "nbformat_minor": 0
}
